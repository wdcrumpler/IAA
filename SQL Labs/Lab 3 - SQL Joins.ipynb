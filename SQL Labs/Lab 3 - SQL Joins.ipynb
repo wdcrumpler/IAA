{
 "cells": [
  {
   "cell_type": "code",
   "execution_count": 1,
   "id": "42e9799f",
   "metadata": {},
   "outputs": [],
   "source": [
    "import pandas as pd\n",
    "import duckdb as db\n",
    "import numpy as np"
   ]
  },
  {
   "cell_type": "code",
   "execution_count": 2,
   "id": "7cf6e569",
   "metadata": {},
   "outputs": [],
   "source": [
    "customers = pd.read_csv(\"customers.csv\")\n",
    "transactions = pd.read_csv('transactions.csv')\n"
   ]
  },
  {
   "cell_type": "markdown",
   "id": "0b8f4d38",
   "metadata": {},
   "source": [
    "Display customers who made purchases.\n",
    "Tables: customers.csv and transactions.csv\n",
    "Display: customer_id, last name, items, and amount"
   ]
  },
  {
   "cell_type": "code",
   "execution_count": 11,
   "id": "d586ea0d",
   "metadata": {},
   "outputs": [
    {
     "data": {
      "text/plain": [
       "┌─────────────┬───────────┬──────────┬────────┐\n",
       "│ customer_id │ last_name │   item   │ amount │\n",
       "│    int64    │  varchar  │ varchar  │ double │\n",
       "├─────────────┼───────────┼──────────┼────────┤\n",
       "│           1 │ Smith     │ Book     │  12.99 │\n",
       "│           1 │ Smith     │ Pen      │   1.49 │\n",
       "│           2 │ Johnson   │ Notebook │   5.25 │\n",
       "│           3 │ Williams  │ Backpack │   25.0 │\n",
       "│           3 │ Williams  │ Laptop   │ 799.99 │\n",
       "└─────────────┴───────────┴──────────┴────────┘"
      ]
     },
     "execution_count": 11,
     "metadata": {},
     "output_type": "execute_result"
    }
   ],
   "source": [
    "db.sql(\"\"\"\n",
    "       select c.customer_id, last_name, item, amount \n",
    "       from customers as c\n",
    "       inner join\n",
    "       transactions as t\n",
    "       on c.customer_id = t.customer_id\"\"\")"
   ]
  },
  {
   "cell_type": "markdown",
   "id": "844195cc",
   "metadata": {},
   "source": [
    "1. All customers, whether or not they made a transaction.\n",
    "2. All transactions, even if the customer doesn't exist in\n",
    "customers.csv\n",
    "3. All customers and all transactions.\n",
    "4. Total amount spent per customer."
   ]
  },
  {
   "cell_type": "code",
   "execution_count": 12,
   "id": "44011a1c",
   "metadata": {},
   "outputs": [
    {
     "data": {
      "text/plain": [
       "┌─────────────┬────────────┬───────────┬─────────────┬──────────┬────────┐\n",
       "│ customer_id │ first_name │ last_name │ customer_id │   item   │ amount │\n",
       "│    int64    │  varchar   │  varchar  │    int64    │ varchar  │ double │\n",
       "├─────────────┼────────────┼───────────┼─────────────┼──────────┼────────┤\n",
       "│           1 │ Alice      │ Smith     │           1 │ Pen      │   1.49 │\n",
       "│           2 │ Bob        │ Johnson   │           2 │ Notebook │   5.25 │\n",
       "│           3 │ Charlie    │ Williams  │           3 │ Laptop   │ 799.99 │\n",
       "│           1 │ Alice      │ Smith     │           1 │ Book     │  12.99 │\n",
       "│           3 │ Charlie    │ Williams  │           3 │ Backpack │   25.0 │\n",
       "│           4 │ Diana      │ Brown     │        NULL │ NULL     │   NULL │\n",
       "│           5 │ Ethan      │ Jones     │        NULL │ NULL     │   NULL │\n",
       "│           6 │ Fiona      │ Miller    │        NULL │ NULL     │   NULL │\n",
       "└─────────────┴────────────┴───────────┴─────────────┴──────────┴────────┘"
      ]
     },
     "execution_count": 12,
     "metadata": {},
     "output_type": "execute_result"
    }
   ],
   "source": [
    "db.sql(\"\"\"\n",
    "       select * \n",
    "       from customers as c\n",
    "       left join\n",
    "       transactions as t\n",
    "       on c.customer_id = t.customer_id\"\"\")"
   ]
  },
  {
   "cell_type": "code",
   "execution_count": 13,
   "id": "4acdf193",
   "metadata": {},
   "outputs": [
    {
     "data": {
      "text/plain": [
       "┌─────────────┬────────────┬───────────┬─────────────┬──────────┬────────┐\n",
       "│ customer_id │ first_name │ last_name │ customer_id │   item   │ amount │\n",
       "│    int64    │  varchar   │  varchar  │    int64    │ varchar  │ double │\n",
       "├─────────────┼────────────┼───────────┼─────────────┼──────────┼────────┤\n",
       "│           1 │ Alice      │ Smith     │           1 │ Pen      │   1.49 │\n",
       "│           2 │ Bob        │ Johnson   │           2 │ Notebook │   5.25 │\n",
       "│           3 │ Charlie    │ Williams  │           3 │ Laptop   │ 799.99 │\n",
       "│           1 │ Alice      │ Smith     │           1 │ Book     │  12.99 │\n",
       "│           3 │ Charlie    │ Williams  │           3 │ Backpack │   25.0 │\n",
       "│        NULL │ NULL       │ NULL      │           7 │ Mouse    │   14.5 │\n",
       "│        NULL │ NULL       │ NULL      │           7 │ Keyboard │   30.0 │\n",
       "└─────────────┴────────────┴───────────┴─────────────┴──────────┴────────┘"
      ]
     },
     "execution_count": 13,
     "metadata": {},
     "output_type": "execute_result"
    }
   ],
   "source": [
    "db.sql(\"\"\"\n",
    "       select * \n",
    "       from customers as c\n",
    "       right join\n",
    "       transactions as t\n",
    "       on c.customer_id = t.customer_id\"\"\")"
   ]
  },
  {
   "cell_type": "code",
   "execution_count": 14,
   "id": "e2868b3f",
   "metadata": {},
   "outputs": [
    {
     "data": {
      "text/plain": [
       "┌─────────────┬────────────┬───────────┬─────────────┬──────────┬────────┐\n",
       "│ customer_id │ first_name │ last_name │ customer_id │   item   │ amount │\n",
       "│    int64    │  varchar   │  varchar  │    int64    │ varchar  │ double │\n",
       "├─────────────┼────────────┼───────────┼─────────────┼──────────┼────────┤\n",
       "│           1 │ Alice      │ Smith     │           1 │ Pen      │   1.49 │\n",
       "│           2 │ Bob        │ Johnson   │           2 │ Notebook │   5.25 │\n",
       "│           3 │ Charlie    │ Williams  │           3 │ Laptop   │ 799.99 │\n",
       "│           1 │ Alice      │ Smith     │           1 │ Book     │  12.99 │\n",
       "│           3 │ Charlie    │ Williams  │           3 │ Backpack │   25.0 │\n",
       "│           4 │ Diana      │ Brown     │        NULL │ NULL     │   NULL │\n",
       "│           5 │ Ethan      │ Jones     │        NULL │ NULL     │   NULL │\n",
       "│           6 │ Fiona      │ Miller    │        NULL │ NULL     │   NULL │\n",
       "│        NULL │ NULL       │ NULL      │           7 │ Mouse    │   14.5 │\n",
       "│        NULL │ NULL       │ NULL      │           7 │ Keyboard │   30.0 │\n",
       "├─────────────┴────────────┴───────────┴─────────────┴──────────┴────────┤\n",
       "│ 10 rows                                                      6 columns │\n",
       "└────────────────────────────────────────────────────────────────────────┘"
      ]
     },
     "execution_count": 14,
     "metadata": {},
     "output_type": "execute_result"
    }
   ],
   "source": [
    "db.sql(\"\"\"\n",
    "       select * \n",
    "       from customers as c\n",
    "       full join\n",
    "       transactions as t\n",
    "       on c.customer_id = t.customer_id\"\"\")"
   ]
  },
  {
   "cell_type": "code",
   "execution_count": 19,
   "id": "9ee3012a",
   "metadata": {},
   "outputs": [
    {
     "data": {
      "text/plain": [
       "┌─────────────┬─────────────┐\n",
       "│ customer_id │ sum(amount) │\n",
       "│    int64    │   double    │\n",
       "├─────────────┼─────────────┤\n",
       "│           1 │       14.48 │\n",
       "│           3 │      824.99 │\n",
       "│           2 │        5.25 │\n",
       "└─────────────┴─────────────┘"
      ]
     },
     "execution_count": 19,
     "metadata": {},
     "output_type": "execute_result"
    }
   ],
   "source": [
    "db.sql(\"\"\"\n",
    "       select c.customer_id, sum(amount) \n",
    "       from customers as c\n",
    "       inner join\n",
    "       transactions as t\n",
    "       on c.customer_id = t.customer_id\n",
    "       group by c.customer_id\"\"\")"
   ]
  }
 ],
 "metadata": {
  "kernelspec": {
   "display_name": "local_venv",
   "language": "python",
   "name": "python3"
  },
  "language_info": {
   "codemirror_mode": {
    "name": "ipython",
    "version": 3
   },
   "file_extension": ".py",
   "mimetype": "text/x-python",
   "name": "python",
   "nbconvert_exporter": "python",
   "pygments_lexer": "ipython3",
   "version": "3.13.5"
  }
 },
 "nbformat": 4,
 "nbformat_minor": 5
}
