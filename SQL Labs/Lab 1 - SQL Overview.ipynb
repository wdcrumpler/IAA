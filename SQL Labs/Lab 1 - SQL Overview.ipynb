{
 "cells": [
  {
   "cell_type": "code",
   "execution_count": 1,
   "id": "4c55985b",
   "metadata": {},
   "outputs": [],
   "source": [
    "import duckdb as db\n",
    "import pandas as pd"
   ]
  },
  {
   "cell_type": "markdown",
   "id": "37286742",
   "metadata": {},
   "source": [
    "#### Question 1: Load and View Data\n",
    "Use DuckDB to select all data from the CSV file."
   ]
  },
  {
   "cell_type": "code",
   "execution_count": 2,
   "id": "4a62f296",
   "metadata": {},
   "outputs": [],
   "source": [
    "employees = db.sql(\"select * from 'employees.csv'\")"
   ]
  },
  {
   "cell_type": "markdown",
   "id": "12bff97a",
   "metadata": {},
   "source": [
    "#### Question 2: Select Specific Columns\n",
    "Select only the `employee_id` column."
   ]
  },
  {
   "cell_type": "code",
   "execution_count": 3,
   "id": "3b3a53a4",
   "metadata": {},
   "outputs": [
    {
     "data": {
      "text/plain": [
       "┌─────────────┐\n",
       "│ employee_id │\n",
       "│    int64    │\n",
       "├─────────────┤\n",
       "│           1 │\n",
       "│           2 │\n",
       "│           3 │\n",
       "│           4 │\n",
       "│           5 │\n",
       "│           6 │\n",
       "│           7 │\n",
       "│           8 │\n",
       "│           9 │\n",
       "│          10 │\n",
       "│          11 │\n",
       "│          12 │\n",
       "│          13 │\n",
       "│          14 │\n",
       "│          15 │\n",
       "│          16 │\n",
       "│          17 │\n",
       "│          18 │\n",
       "│          19 │\n",
       "│          20 │\n",
       "├─────────────┤\n",
       "│   20 rows   │\n",
       "└─────────────┘"
      ]
     },
     "execution_count": 3,
     "metadata": {},
     "output_type": "execute_result"
    }
   ],
   "source": [
    "db.sql(\"select employee_id from 'employees.csv'\")"
   ]
  },
  {
   "cell_type": "markdown",
   "id": "43f8c9ca",
   "metadata": {},
   "source": [
    "#### Question 3: Filter with WHERE Clause\n",
    "Select all employees with a salary greater than 60,000."
   ]
  },
  {
   "cell_type": "code",
   "execution_count": 4,
   "id": "c9e2a988",
   "metadata": {},
   "outputs": [
    {
     "data": {
      "text/plain": [
       "┌─────────────┬─────────┐\n",
       "│ employee_id │ salary  │\n",
       "│    int64    │ double  │\n",
       "├─────────────┼─────────┤\n",
       "│           4 │ 72000.0 │\n",
       "│           6 │ 68000.0 │\n",
       "│           8 │ 61000.0 │\n",
       "│           9 │ 70000.0 │\n",
       "│          12 │ 75000.0 │\n",
       "│          13 │ 64000.0 │\n",
       "│          17 │ 66000.0 │\n",
       "│          19 │ 61000.0 │\n",
       "└─────────────┴─────────┘"
      ]
     },
     "execution_count": 4,
     "metadata": {},
     "output_type": "execute_result"
    }
   ],
   "source": [
    "db.sql(\"select * from 'employees.csv' where salary > 60000\")"
   ]
  },
  {
   "cell_type": "markdown",
   "id": "88b34e00",
   "metadata": {},
   "source": [
    "Combine two conditions: salary greater than 50,000 and less than 65,000."
   ]
  },
  {
   "cell_type": "code",
   "execution_count": 5,
   "id": "ef3d1958",
   "metadata": {},
   "outputs": [
    {
     "data": {
      "text/plain": [
       "┌─────────────┬─────────┐\n",
       "│ employee_id │ salary  │\n",
       "│    int64    │ double  │\n",
       "├─────────────┼─────────┤\n",
       "│           1 │ 55000.0 │\n",
       "│           2 │ 60000.0 │\n",
       "│           5 │ 51000.0 │\n",
       "│           8 │ 61000.0 │\n",
       "│          10 │ 53000.0 │\n",
       "│          13 │ 64000.0 │\n",
       "│          15 │ 59000.0 │\n",
       "│          16 │ 52000.0 │\n",
       "│          19 │ 61000.0 │\n",
       "│          20 │ 57000.0 │\n",
       "├─────────────┴─────────┤\n",
       "│ 10 rows     2 columns │\n",
       "└───────────────────────┘"
      ]
     },
     "execution_count": 5,
     "metadata": {},
     "output_type": "execute_result"
    }
   ],
   "source": [
    "db.sql(\"select * from 'employees.csv' where salary > 50000 and salary < 65000\")"
   ]
  },
  {
   "cell_type": "markdown",
   "id": "ec01c091",
   "metadata": {},
   "source": [
    "#### Question 4: Order the Results\n",
    "Show all employees ordered by salary descending."
   ]
  },
  {
   "cell_type": "code",
   "execution_count": 6,
   "id": "2bb34142",
   "metadata": {},
   "outputs": [
    {
     "data": {
      "text/plain": [
       "┌─────────────┬─────────┐\n",
       "│ employee_id │ salary  │\n",
       "│    int64    │ double  │\n",
       "├─────────────┼─────────┤\n",
       "│          12 │ 75000.0 │\n",
       "│           4 │ 72000.0 │\n",
       "│           9 │ 70000.0 │\n",
       "│           6 │ 68000.0 │\n",
       "│          17 │ 66000.0 │\n",
       "│          13 │ 64000.0 │\n",
       "│           8 │ 61000.0 │\n",
       "│          19 │ 61000.0 │\n",
       "│           2 │ 60000.0 │\n",
       "│          15 │ 59000.0 │\n",
       "│          20 │ 57000.0 │\n",
       "│           1 │ 55000.0 │\n",
       "│          10 │ 53000.0 │\n",
       "│          16 │ 52000.0 │\n",
       "│           5 │ 51000.0 │\n",
       "│          11 │ 49000.0 │\n",
       "│          18 │ 48000.0 │\n",
       "│           3 │ 48000.0 │\n",
       "│          14 │ 47000.0 │\n",
       "│           7 │ 45000.0 │\n",
       "├─────────────┴─────────┤\n",
       "│ 20 rows     2 columns │\n",
       "└───────────────────────┘"
      ]
     },
     "execution_count": 6,
     "metadata": {},
     "output_type": "execute_result"
    }
   ],
   "source": [
    "db.sql(\"select * from 'employees.csv' order by salary desc\")"
   ]
  },
  {
   "cell_type": "markdown",
   "id": "59f5fc51",
   "metadata": {},
   "source": [
    "#### Question 5: Aggregate — Find Max Salary\n",
    "Find the highest salary in the dataset."
   ]
  },
  {
   "cell_type": "code",
   "execution_count": 7,
   "id": "3d8a53e9",
   "metadata": {},
   "outputs": [
    {
     "data": {
      "text/plain": [
       "┌─────────────┐\n",
       "│ max(salary) │\n",
       "│   double    │\n",
       "├─────────────┤\n",
       "│     75000.0 │\n",
       "└─────────────┘"
      ]
     },
     "execution_count": 7,
     "metadata": {},
     "output_type": "execute_result"
    }
   ],
   "source": [
    "db.sql(\"select max(salary) from 'employees.csv'\")"
   ]
  },
  {
   "cell_type": "markdown",
   "id": "2779c565",
   "metadata": {},
   "source": [
    "Find the minimum salary."
   ]
  },
  {
   "cell_type": "code",
   "execution_count": 25,
   "id": "10c2b42c",
   "metadata": {},
   "outputs": [
    {
     "data": {
      "text/plain": [
       "┌─────────────┐\n",
       "│ min(salary) │\n",
       "│   double    │\n",
       "├─────────────┤\n",
       "│     45000.0 │\n",
       "└─────────────┘"
      ]
     },
     "execution_count": 25,
     "metadata": {},
     "output_type": "execute_result"
    }
   ],
   "source": [
    "db.sql(\"select min(salary) from 'employees.csv'\")"
   ]
  },
  {
   "cell_type": "markdown",
   "id": "ff3c01ed",
   "metadata": {},
   "source": [
    "#### Question 6: Create a New Column \n",
    "Add a new column called `annual_bonus` which is 10% of salary, and select only those employees who have an annual bonus greater than 5500"
   ]
  },
  {
   "cell_type": "code",
   "execution_count": 8,
   "id": "3ff9761f",
   "metadata": {},
   "outputs": [
    {
     "data": {
      "text/plain": [
       "┌─────────────┬─────────┬──────────────┐\n",
       "│ employee_id │ salary  │ annual_bonus │\n",
       "│    int64    │ double  │    double    │\n",
       "├─────────────┼─────────┼──────────────┤\n",
       "│           2 │ 60000.0 │       6000.0 │\n",
       "│           4 │ 72000.0 │       7200.0 │\n",
       "│           6 │ 68000.0 │       6800.0 │\n",
       "│           8 │ 61000.0 │       6100.0 │\n",
       "│           9 │ 70000.0 │       7000.0 │\n",
       "│          12 │ 75000.0 │       7500.0 │\n",
       "│          13 │ 64000.0 │       6400.0 │\n",
       "│          15 │ 59000.0 │       5900.0 │\n",
       "│          17 │ 66000.0 │       6600.0 │\n",
       "│          19 │ 61000.0 │       6100.0 │\n",
       "│          20 │ 57000.0 │       5700.0 │\n",
       "├─────────────┴─────────┴──────────────┤\n",
       "│ 11 rows                    3 columns │\n",
       "└──────────────────────────────────────┘"
      ]
     },
     "execution_count": 8,
     "metadata": {},
     "output_type": "execute_result"
    }
   ],
   "source": [
    "db.sql(\"create table employees as select * from 'employees.csv'\")\n",
    "db.sql(\"alter table employees add column annual_bonus double\")\n",
    "db.sql(\"update employees set annual_bonus = salary * 0.1\")\n",
    "db.sql(\"select * from employees where annual_bonus>5500\")"
   ]
  }
 ],
 "metadata": {
  "kernelspec": {
   "display_name": "local_venv",
   "language": "python",
   "name": "python3"
  },
  "language_info": {
   "codemirror_mode": {
    "name": "ipython",
    "version": 3
   },
   "file_extension": ".py",
   "mimetype": "text/x-python",
   "name": "python",
   "nbconvert_exporter": "python",
   "pygments_lexer": "ipython3",
   "version": "3.13.5"
  }
 },
 "nbformat": 4,
 "nbformat_minor": 5
}
