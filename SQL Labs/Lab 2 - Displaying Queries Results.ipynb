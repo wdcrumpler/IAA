{
 "cells": [
  {
   "cell_type": "code",
   "execution_count": 4,
   "metadata": {},
   "outputs": [],
   "source": [
    "import pandas as pd\n",
    "import duckdb as db\n",
    "import numpy as np"
   ]
  },
  {
   "cell_type": "markdown",
   "metadata": {},
   "source": [
    "#### Load the AWProduct.csv file into a Pandas Dataframe. Name the Dataframe df"
   ]
  },
  {
   "cell_type": "code",
   "execution_count": 3,
   "metadata": {},
   "outputs": [],
   "source": [
    "df = pd.read_csv(\"AWProduct.csv\")\n"
   ]
  },
  {
   "cell_type": "markdown",
   "metadata": {},
   "source": [
    "#### Using SQL: Display the first 10 rows of the Dataframe. Only show the following columns: ProductKey, ProductAlternateKey, ProductSubcategoryKey, ProductName"
   ]
  },
  {
   "cell_type": "code",
   "execution_count": 8,
   "metadata": {},
   "outputs": [
    {
     "data": {
      "text/plain": [
       "┌────────────┬─────────────────────┬───────────────────────┬───────────────────────┐\n",
       "│ ProductKey │ ProductAlternateKey │ ProductSubcategoryKey │      ProductName      │\n",
       "│   int64    │       varchar       │        double         │        varchar        │\n",
       "├────────────┼─────────────────────┼───────────────────────┼───────────────────────┤\n",
       "│          1 │ AR-5381             │                  NULL │ Adjustable Race       │\n",
       "│          2 │ BA-8327             │                  NULL │ Bearing Ball          │\n",
       "│          3 │ BE-2349             │                  NULL │ BB Ball Bearing       │\n",
       "│          4 │ BE-2908             │                  NULL │ Headset Ball Bearings │\n",
       "│          5 │ BL-2036             │                  NULL │ Blade                 │\n",
       "│          6 │ CA-5965             │                  NULL │ LL Crankarm           │\n",
       "│          7 │ CA-6738             │                  NULL │ ML Crankarm           │\n",
       "│          8 │ CA-7457             │                  NULL │ HL Crankarm           │\n",
       "│          9 │ CB-2903             │                  NULL │ Chainring Bolts       │\n",
       "│         10 │ CN-6137             │                  NULL │ Chainring Nut         │\n",
       "├────────────┴─────────────────────┴───────────────────────┴───────────────────────┤\n",
       "│ 10 rows                                                                4 columns │\n",
       "└──────────────────────────────────────────────────────────────────────────────────┘"
      ]
     },
     "execution_count": 8,
     "metadata": {},
     "output_type": "execute_result"
    }
   ],
   "source": [
    "db.sql(\"select ProductKey, ProductAlternateKey, ProductSubcategoryKey, ProductName \" \\\n",
    "\"from df \" \\\n",
    "\"limit 10\")"
   ]
  },
  {
   "cell_type": "markdown",
   "metadata": {},
   "source": [
    "#### Using Pandas: Display the first 10 rows of the Dataframe. Only show the following columns: ProductKey, ProductAlternateKey, ProductSubcategoryKey, ProductName"
   ]
  },
  {
   "cell_type": "code",
   "execution_count": 10,
   "metadata": {},
   "outputs": [
    {
     "data": {
      "application/vnd.microsoft.datawrangler.viewer.v0+json": {
       "columns": [
        {
         "name": "index",
         "rawType": "int64",
         "type": "integer"
        },
        {
         "name": "ProductKey",
         "rawType": "int64",
         "type": "integer"
        },
        {
         "name": "ProductAlternateKey",
         "rawType": "object",
         "type": "string"
        },
        {
         "name": "ProductSubcategoryKey",
         "rawType": "float64",
         "type": "float"
        },
        {
         "name": "ProductName",
         "rawType": "object",
         "type": "string"
        }
       ],
       "ref": "6baf8157-1b31-402c-b723-510b05166b2c",
       "rows": [
        [
         "1",
         "2",
         "BA-8327",
         null,
         "Bearing Ball"
        ],
        [
         "2",
         "3",
         "BE-2349",
         null,
         "BB Ball Bearing"
        ],
        [
         "3",
         "4",
         "BE-2908",
         null,
         "Headset Ball Bearings"
        ],
        [
         "4",
         "5",
         "BL-2036",
         null,
         "Blade"
        ],
        [
         "5",
         "6",
         "CA-5965",
         null,
         "LL Crankarm"
        ],
        [
         "6",
         "7",
         "CA-6738",
         null,
         "ML Crankarm"
        ],
        [
         "7",
         "8",
         "CA-7457",
         null,
         "HL Crankarm"
        ],
        [
         "8",
         "9",
         "CB-2903",
         null,
         "Chainring Bolts"
        ],
        [
         "9",
         "10",
         "CN-6137",
         null,
         "Chainring Nut"
        ]
       ],
       "shape": {
        "columns": 4,
        "rows": 9
       }
      },
      "text/html": [
       "<div>\n",
       "<style scoped>\n",
       "    .dataframe tbody tr th:only-of-type {\n",
       "        vertical-align: middle;\n",
       "    }\n",
       "\n",
       "    .dataframe tbody tr th {\n",
       "        vertical-align: top;\n",
       "    }\n",
       "\n",
       "    .dataframe thead th {\n",
       "        text-align: right;\n",
       "    }\n",
       "</style>\n",
       "<table border=\"1\" class=\"dataframe\">\n",
       "  <thead>\n",
       "    <tr style=\"text-align: right;\">\n",
       "      <th></th>\n",
       "      <th>ProductKey</th>\n",
       "      <th>ProductAlternateKey</th>\n",
       "      <th>ProductSubcategoryKey</th>\n",
       "      <th>ProductName</th>\n",
       "    </tr>\n",
       "  </thead>\n",
       "  <tbody>\n",
       "    <tr>\n",
       "      <th>1</th>\n",
       "      <td>2</td>\n",
       "      <td>BA-8327</td>\n",
       "      <td>NaN</td>\n",
       "      <td>Bearing Ball</td>\n",
       "    </tr>\n",
       "    <tr>\n",
       "      <th>2</th>\n",
       "      <td>3</td>\n",
       "      <td>BE-2349</td>\n",
       "      <td>NaN</td>\n",
       "      <td>BB Ball Bearing</td>\n",
       "    </tr>\n",
       "    <tr>\n",
       "      <th>3</th>\n",
       "      <td>4</td>\n",
       "      <td>BE-2908</td>\n",
       "      <td>NaN</td>\n",
       "      <td>Headset Ball Bearings</td>\n",
       "    </tr>\n",
       "    <tr>\n",
       "      <th>4</th>\n",
       "      <td>5</td>\n",
       "      <td>BL-2036</td>\n",
       "      <td>NaN</td>\n",
       "      <td>Blade</td>\n",
       "    </tr>\n",
       "    <tr>\n",
       "      <th>5</th>\n",
       "      <td>6</td>\n",
       "      <td>CA-5965</td>\n",
       "      <td>NaN</td>\n",
       "      <td>LL Crankarm</td>\n",
       "    </tr>\n",
       "    <tr>\n",
       "      <th>6</th>\n",
       "      <td>7</td>\n",
       "      <td>CA-6738</td>\n",
       "      <td>NaN</td>\n",
       "      <td>ML Crankarm</td>\n",
       "    </tr>\n",
       "    <tr>\n",
       "      <th>7</th>\n",
       "      <td>8</td>\n",
       "      <td>CA-7457</td>\n",
       "      <td>NaN</td>\n",
       "      <td>HL Crankarm</td>\n",
       "    </tr>\n",
       "    <tr>\n",
       "      <th>8</th>\n",
       "      <td>9</td>\n",
       "      <td>CB-2903</td>\n",
       "      <td>NaN</td>\n",
       "      <td>Chainring Bolts</td>\n",
       "    </tr>\n",
       "    <tr>\n",
       "      <th>9</th>\n",
       "      <td>10</td>\n",
       "      <td>CN-6137</td>\n",
       "      <td>NaN</td>\n",
       "      <td>Chainring Nut</td>\n",
       "    </tr>\n",
       "  </tbody>\n",
       "</table>\n",
       "</div>"
      ],
      "text/plain": [
       "   ProductKey ProductAlternateKey  ProductSubcategoryKey  \\\n",
       "1           2             BA-8327                    NaN   \n",
       "2           3             BE-2349                    NaN   \n",
       "3           4             BE-2908                    NaN   \n",
       "4           5             BL-2036                    NaN   \n",
       "5           6             CA-5965                    NaN   \n",
       "6           7             CA-6738                    NaN   \n",
       "7           8             CA-7457                    NaN   \n",
       "8           9             CB-2903                    NaN   \n",
       "9          10             CN-6137                    NaN   \n",
       "\n",
       "             ProductName  \n",
       "1           Bearing Ball  \n",
       "2        BB Ball Bearing  \n",
       "3  Headset Ball Bearings  \n",
       "4                  Blade  \n",
       "5            LL Crankarm  \n",
       "6            ML Crankarm  \n",
       "7            HL Crankarm  \n",
       "8        Chainring Bolts  \n",
       "9          Chainring Nut  "
      ]
     },
     "execution_count": 10,
     "metadata": {},
     "output_type": "execute_result"
    }
   ],
   "source": [
    "df[['ProductKey', 'ProductAlternateKey', 'ProductSubcategoryKey', 'ProductName']].iloc[1:10]"
   ]
  },
  {
   "cell_type": "markdown",
   "metadata": {},
   "source": [
    "#### Using SQL: Display ProductName, DealerPrice only for those rows where the DealerPrice > 10. Limit your output to only 10 rows"
   ]
  },
  {
   "cell_type": "code",
   "execution_count": 11,
   "metadata": {},
   "outputs": [
    {
     "data": {
      "text/plain": [
       "┌────────────────────────────┬─────────────┐\n",
       "│        ProductName         │ DealerPrice │\n",
       "│          varchar           │   double    │\n",
       "├────────────────────────────┼─────────────┤\n",
       "│ Sport-100 Helmet, Red      │     20.1865 │\n",
       "│ Sport-100 Helmet, Red      │     20.1865 │\n",
       "│ Sport-100 Helmet, Red      │      20.994 │\n",
       "│ Sport-100 Helmet, Black    │     20.1865 │\n",
       "│ Sport-100 Helmet, Black    │     20.1865 │\n",
       "│ Sport-100 Helmet, Black    │      20.994 │\n",
       "│ Sport-100 Helmet, Blue     │     20.1865 │\n",
       "│ Sport-100 Helmet, Blue     │     20.1865 │\n",
       "│ Sport-100 Helmet, Blue     │      20.994 │\n",
       "│ Long-Sleeve Logo Jersey, S │     28.8404 │\n",
       "├────────────────────────────┴─────────────┤\n",
       "│ 10 rows                        2 columns │\n",
       "└──────────────────────────────────────────┘"
      ]
     },
     "execution_count": 11,
     "metadata": {},
     "output_type": "execute_result"
    }
   ],
   "source": [
    "db.sql(\"select ProductName, DealerPrice \" \\\n",
    "\"from df \" \\\n",
    "\"where DealerPrice >10\" \\\n",
    "\"limit 10\")"
   ]
  },
  {
   "cell_type": "markdown",
   "metadata": {},
   "source": [
    "#### Using Pandas: Display ProductName, DealerPrice only for those rows where the DealerPrice > 10. Limit your output to only 10 rows"
   ]
  },
  {
   "cell_type": "code",
   "execution_count": 13,
   "metadata": {},
   "outputs": [
    {
     "data": {
      "application/vnd.microsoft.datawrangler.viewer.v0+json": {
       "columns": [
        {
         "name": "index",
         "rawType": "int64",
         "type": "integer"
        },
        {
         "name": "ProductName",
         "rawType": "object",
         "type": "string"
        },
        {
         "name": "DealerPrice",
         "rawType": "float64",
         "type": "float"
        }
       ],
       "ref": "dbc6ab4d-ad14-4174-9aaa-a306dc3928f3",
       "rows": [
        [
         "212",
         "Sport-100 Helmet, Red",
         "20.1865"
        ],
        [
         "213",
         "Sport-100 Helmet, Red",
         "20.994"
        ],
        [
         "214",
         "Sport-100 Helmet, Black",
         "20.1865"
        ],
        [
         "215",
         "Sport-100 Helmet, Black",
         "20.1865"
        ],
        [
         "216",
         "Sport-100 Helmet, Black",
         "20.994"
        ],
        [
         "219",
         "Sport-100 Helmet, Blue",
         "20.1865"
        ],
        [
         "220",
         "Sport-100 Helmet, Blue",
         "20.1865"
        ],
        [
         "221",
         "Sport-100 Helmet, Blue",
         "20.994"
        ],
        [
         "225",
         "Long-Sleeve Logo Jersey, S",
         "28.8404"
        ]
       ],
       "shape": {
        "columns": 2,
        "rows": 9
       }
      },
      "text/html": [
       "<div>\n",
       "<style scoped>\n",
       "    .dataframe tbody tr th:only-of-type {\n",
       "        vertical-align: middle;\n",
       "    }\n",
       "\n",
       "    .dataframe tbody tr th {\n",
       "        vertical-align: top;\n",
       "    }\n",
       "\n",
       "    .dataframe thead th {\n",
       "        text-align: right;\n",
       "    }\n",
       "</style>\n",
       "<table border=\"1\" class=\"dataframe\">\n",
       "  <thead>\n",
       "    <tr style=\"text-align: right;\">\n",
       "      <th></th>\n",
       "      <th>ProductName</th>\n",
       "      <th>DealerPrice</th>\n",
       "    </tr>\n",
       "  </thead>\n",
       "  <tbody>\n",
       "    <tr>\n",
       "      <th>212</th>\n",
       "      <td>Sport-100 Helmet, Red</td>\n",
       "      <td>20.1865</td>\n",
       "    </tr>\n",
       "    <tr>\n",
       "      <th>213</th>\n",
       "      <td>Sport-100 Helmet, Red</td>\n",
       "      <td>20.9940</td>\n",
       "    </tr>\n",
       "    <tr>\n",
       "      <th>214</th>\n",
       "      <td>Sport-100 Helmet, Black</td>\n",
       "      <td>20.1865</td>\n",
       "    </tr>\n",
       "    <tr>\n",
       "      <th>215</th>\n",
       "      <td>Sport-100 Helmet, Black</td>\n",
       "      <td>20.1865</td>\n",
       "    </tr>\n",
       "    <tr>\n",
       "      <th>216</th>\n",
       "      <td>Sport-100 Helmet, Black</td>\n",
       "      <td>20.9940</td>\n",
       "    </tr>\n",
       "    <tr>\n",
       "      <th>219</th>\n",
       "      <td>Sport-100 Helmet, Blue</td>\n",
       "      <td>20.1865</td>\n",
       "    </tr>\n",
       "    <tr>\n",
       "      <th>220</th>\n",
       "      <td>Sport-100 Helmet, Blue</td>\n",
       "      <td>20.1865</td>\n",
       "    </tr>\n",
       "    <tr>\n",
       "      <th>221</th>\n",
       "      <td>Sport-100 Helmet, Blue</td>\n",
       "      <td>20.9940</td>\n",
       "    </tr>\n",
       "    <tr>\n",
       "      <th>225</th>\n",
       "      <td>Long-Sleeve Logo Jersey, S</td>\n",
       "      <td>28.8404</td>\n",
       "    </tr>\n",
       "  </tbody>\n",
       "</table>\n",
       "</div>"
      ],
      "text/plain": [
       "                    ProductName  DealerPrice\n",
       "212       Sport-100 Helmet, Red      20.1865\n",
       "213       Sport-100 Helmet, Red      20.9940\n",
       "214     Sport-100 Helmet, Black      20.1865\n",
       "215     Sport-100 Helmet, Black      20.1865\n",
       "216     Sport-100 Helmet, Black      20.9940\n",
       "219      Sport-100 Helmet, Blue      20.1865\n",
       "220      Sport-100 Helmet, Blue      20.1865\n",
       "221      Sport-100 Helmet, Blue      20.9940\n",
       "225  Long-Sleeve Logo Jersey, S      28.8404"
      ]
     },
     "execution_count": 13,
     "metadata": {},
     "output_type": "execute_result"
    }
   ],
   "source": [
    "df[df['DealerPrice'] > 10][['ProductName', 'DealerPrice']].iloc[1:10]"
   ]
  },
  {
   "cell_type": "markdown",
   "metadata": {},
   "source": [
    "#### Using SQL: Display ProductName, DealerPrice, Color only for those rows where the DealerPrice > 10 AND Color = Silver. Limit your output to only 10 rows"
   ]
  },
  {
   "cell_type": "code",
   "execution_count": 17,
   "metadata": {},
   "outputs": [
    {
     "data": {
      "text/plain": [
       "┌────────────────────────────────┬─────────────┬─────────┐\n",
       "│          ProductName           │ DealerPrice │  Color  │\n",
       "│            varchar             │   double    │ varchar │\n",
       "├────────────────────────────────┼─────────────┼─────────┤\n",
       "│ HL Mountain Frame - Silver, 42 │    722.5949 │ Silver  │\n",
       "│ HL Mountain Frame - Silver, 42 │    744.2727 │ Silver  │\n",
       "│ HL Mountain Frame - Silver, 42 │       818.7 │ Silver  │\n",
       "│ HL Mountain Frame - Silver, 44 │       818.7 │ Silver  │\n",
       "│ HL Mountain Frame - Silver, 48 │       818.7 │ Silver  │\n",
       "│ HL Mountain Frame - Silver, 46 │    722.5949 │ Silver  │\n",
       "│ HL Mountain Frame - Silver, 46 │    744.2727 │ Silver  │\n",
       "│ HL Mountain Frame - Silver, 46 │       818.7 │ Silver  │\n",
       "│ HL Mountain Frame - Silver, 38 │    722.5949 │ Silver  │\n",
       "│ HL Mountain Frame - Silver, 38 │    744.2727 │ Silver  │\n",
       "├────────────────────────────────┴─────────────┴─────────┤\n",
       "│ 10 rows                                      3 columns │\n",
       "└────────────────────────────────────────────────────────┘"
      ]
     },
     "execution_count": 17,
     "metadata": {},
     "output_type": "execute_result"
    }
   ],
   "source": [
    "db.sql(\"select ProductName, DealerPrice, Color \" \\\n",
    "\"from df \" \\\n",
    "\"where DealerPrice >10 and Color = 'Silver'\" \\\n",
    "\"limit 10\")"
   ]
  },
  {
   "cell_type": "markdown",
   "metadata": {},
   "source": [
    "#### Using Pandas: Display ProductName, DealerPrice, Color only for those rows where the DealerPrice > 10 AND Color = Silver. Limit your output to only 10 rows"
   ]
  },
  {
   "cell_type": "code",
   "execution_count": 21,
   "metadata": {},
   "outputs": [
    {
     "data": {
      "application/vnd.microsoft.datawrangler.viewer.v0+json": {
       "columns": [
        {
         "name": "index",
         "rawType": "int64",
         "type": "integer"
        },
        {
         "name": "ProductName",
         "rawType": "object",
         "type": "string"
        },
        {
         "name": "DealerPrice",
         "rawType": "float64",
         "type": "float"
        },
        {
         "name": "Color",
         "rawType": "object",
         "type": "string"
        }
       ],
       "ref": "5a1110a4-1081-4e39-9a06-b300df7e0c9e",
       "rows": [
        [
         "288",
         "HL Mountain Frame - Silver, 42",
         "744.2727",
         "Silver"
        ],
        [
         "289",
         "HL Mountain Frame - Silver, 42",
         "818.7",
         "Silver"
        ],
        [
         "290",
         "HL Mountain Frame - Silver, 44",
         "818.7",
         "Silver"
        ],
        [
         "291",
         "HL Mountain Frame - Silver, 48",
         "818.7",
         "Silver"
        ],
        [
         "292",
         "HL Mountain Frame - Silver, 46",
         "722.5949",
         "Silver"
        ],
        [
         "293",
         "HL Mountain Frame - Silver, 46",
         "744.2727",
         "Silver"
        ],
        [
         "294",
         "HL Mountain Frame - Silver, 46",
         "818.7",
         "Silver"
        ],
        [
         "306",
         "HL Mountain Frame - Silver, 38",
         "722.5949",
         "Silver"
        ],
        [
         "307",
         "HL Mountain Frame - Silver, 38",
         "744.2727",
         "Silver"
        ]
       ],
       "shape": {
        "columns": 3,
        "rows": 9
       }
      },
      "text/html": [
       "<div>\n",
       "<style scoped>\n",
       "    .dataframe tbody tr th:only-of-type {\n",
       "        vertical-align: middle;\n",
       "    }\n",
       "\n",
       "    .dataframe tbody tr th {\n",
       "        vertical-align: top;\n",
       "    }\n",
       "\n",
       "    .dataframe thead th {\n",
       "        text-align: right;\n",
       "    }\n",
       "</style>\n",
       "<table border=\"1\" class=\"dataframe\">\n",
       "  <thead>\n",
       "    <tr style=\"text-align: right;\">\n",
       "      <th></th>\n",
       "      <th>ProductName</th>\n",
       "      <th>DealerPrice</th>\n",
       "      <th>Color</th>\n",
       "    </tr>\n",
       "  </thead>\n",
       "  <tbody>\n",
       "    <tr>\n",
       "      <th>288</th>\n",
       "      <td>HL Mountain Frame - Silver, 42</td>\n",
       "      <td>744.2727</td>\n",
       "      <td>Silver</td>\n",
       "    </tr>\n",
       "    <tr>\n",
       "      <th>289</th>\n",
       "      <td>HL Mountain Frame - Silver, 42</td>\n",
       "      <td>818.7000</td>\n",
       "      <td>Silver</td>\n",
       "    </tr>\n",
       "    <tr>\n",
       "      <th>290</th>\n",
       "      <td>HL Mountain Frame - Silver, 44</td>\n",
       "      <td>818.7000</td>\n",
       "      <td>Silver</td>\n",
       "    </tr>\n",
       "    <tr>\n",
       "      <th>291</th>\n",
       "      <td>HL Mountain Frame - Silver, 48</td>\n",
       "      <td>818.7000</td>\n",
       "      <td>Silver</td>\n",
       "    </tr>\n",
       "    <tr>\n",
       "      <th>292</th>\n",
       "      <td>HL Mountain Frame - Silver, 46</td>\n",
       "      <td>722.5949</td>\n",
       "      <td>Silver</td>\n",
       "    </tr>\n",
       "    <tr>\n",
       "      <th>293</th>\n",
       "      <td>HL Mountain Frame - Silver, 46</td>\n",
       "      <td>744.2727</td>\n",
       "      <td>Silver</td>\n",
       "    </tr>\n",
       "    <tr>\n",
       "      <th>294</th>\n",
       "      <td>HL Mountain Frame - Silver, 46</td>\n",
       "      <td>818.7000</td>\n",
       "      <td>Silver</td>\n",
       "    </tr>\n",
       "    <tr>\n",
       "      <th>306</th>\n",
       "      <td>HL Mountain Frame - Silver, 38</td>\n",
       "      <td>722.5949</td>\n",
       "      <td>Silver</td>\n",
       "    </tr>\n",
       "    <tr>\n",
       "      <th>307</th>\n",
       "      <td>HL Mountain Frame - Silver, 38</td>\n",
       "      <td>744.2727</td>\n",
       "      <td>Silver</td>\n",
       "    </tr>\n",
       "  </tbody>\n",
       "</table>\n",
       "</div>"
      ],
      "text/plain": [
       "                        ProductName  DealerPrice   Color\n",
       "288  HL Mountain Frame - Silver, 42     744.2727  Silver\n",
       "289  HL Mountain Frame - Silver, 42     818.7000  Silver\n",
       "290  HL Mountain Frame - Silver, 44     818.7000  Silver\n",
       "291  HL Mountain Frame - Silver, 48     818.7000  Silver\n",
       "292  HL Mountain Frame - Silver, 46     722.5949  Silver\n",
       "293  HL Mountain Frame - Silver, 46     744.2727  Silver\n",
       "294  HL Mountain Frame - Silver, 46     818.7000  Silver\n",
       "306  HL Mountain Frame - Silver, 38     722.5949  Silver\n",
       "307  HL Mountain Frame - Silver, 38     744.2727  Silver"
      ]
     },
     "execution_count": 21,
     "metadata": {},
     "output_type": "execute_result"
    }
   ],
   "source": [
    "df[(df['DealerPrice'] > 10) & (df['Color'] == 'Silver')][['ProductName', 'DealerPrice', 'Color']].iloc[1:10]"
   ]
  },
  {
   "cell_type": "markdown",
   "metadata": {},
   "source": [
    "#### Using SQL: Group by color. Find the ListPrice AVERAGE per color. "
   ]
  },
  {
   "cell_type": "code",
   "execution_count": 40,
   "metadata": {},
   "outputs": [
    {
     "data": {
      "text/plain": [
       "┌──────────────┬──────────────────────────┐\n",
       "│    Color     │ round(avg(ListPrice), 2) │\n",
       "│   varchar    │          double          │\n",
       "├──────────────┼──────────────────────────┤\n",
       "│ Red          │                  1176.61 │\n",
       "│ Silver/Black │                    64.02 │\n",
       "│ Multi        │                    48.93 │\n",
       "│ Black        │                   791.37 │\n",
       "│ NULL         │                    56.47 │\n",
       "│ Grey         │                    125.0 │\n",
       "│ Silver       │                  1113.59 │\n",
       "│ Yellow       │                   918.11 │\n",
       "│ White        │                     9.25 │\n",
       "│ Blue         │                   860.11 │\n",
       "├──────────────┴──────────────────────────┤\n",
       "│ 10 rows                       2 columns │\n",
       "└─────────────────────────────────────────┘"
      ]
     },
     "execution_count": 40,
     "metadata": {},
     "output_type": "execute_result"
    }
   ],
   "source": [
    "db.sql(\"select color, round(avg(ListPrice),2)\" \\\n",
    "\"from df \" \\\n",
    "\"group by color\")"
   ]
  },
  {
   "cell_type": "markdown",
   "metadata": {},
   "source": [
    "#### Using Pandas: Group by color. Find the ListPrice AVERAGE per color. "
   ]
  },
  {
   "cell_type": "code",
   "execution_count": 29,
   "metadata": {},
   "outputs": [
    {
     "data": {
      "application/vnd.microsoft.datawrangler.viewer.v0+json": {
       "columns": [
        {
         "name": "Color",
         "rawType": "object",
         "type": "string"
        },
        {
         "name": "avg_list_price",
         "rawType": "float64",
         "type": "float"
        }
       ],
       "ref": "3609c833-268a-4361-9070-988a35a45e54",
       "rows": [
        [
         "Black",
         "791.37280546875"
        ],
        [
         "Blue",
         "860.1053"
        ],
        [
         "Grey",
         "125.0"
        ],
        [
         "Multi",
         "48.93037777777778"
        ],
        [
         "Red",
         "1176.6054629032258"
        ],
        [
         "Silver",
         "1113.5939266666667"
        ],
        [
         "Silver/Black",
         "64.01857142857143"
        ],
        [
         "White",
         "9.245000000000001"
        ],
        [
         "Yellow",
         "918.1141304347826"
        ]
       ],
       "shape": {
        "columns": 1,
        "rows": 9
       }
      },
      "text/html": [
       "<div>\n",
       "<style scoped>\n",
       "    .dataframe tbody tr th:only-of-type {\n",
       "        vertical-align: middle;\n",
       "    }\n",
       "\n",
       "    .dataframe tbody tr th {\n",
       "        vertical-align: top;\n",
       "    }\n",
       "\n",
       "    .dataframe thead th {\n",
       "        text-align: right;\n",
       "    }\n",
       "</style>\n",
       "<table border=\"1\" class=\"dataframe\">\n",
       "  <thead>\n",
       "    <tr style=\"text-align: right;\">\n",
       "      <th></th>\n",
       "      <th>avg_list_price</th>\n",
       "    </tr>\n",
       "    <tr>\n",
       "      <th>Color</th>\n",
       "      <th></th>\n",
       "    </tr>\n",
       "  </thead>\n",
       "  <tbody>\n",
       "    <tr>\n",
       "      <th>Black</th>\n",
       "      <td>791.372805</td>\n",
       "    </tr>\n",
       "    <tr>\n",
       "      <th>Blue</th>\n",
       "      <td>860.105300</td>\n",
       "    </tr>\n",
       "    <tr>\n",
       "      <th>Grey</th>\n",
       "      <td>125.000000</td>\n",
       "    </tr>\n",
       "    <tr>\n",
       "      <th>Multi</th>\n",
       "      <td>48.930378</td>\n",
       "    </tr>\n",
       "    <tr>\n",
       "      <th>Red</th>\n",
       "      <td>1176.605463</td>\n",
       "    </tr>\n",
       "    <tr>\n",
       "      <th>Silver</th>\n",
       "      <td>1113.593927</td>\n",
       "    </tr>\n",
       "    <tr>\n",
       "      <th>Silver/Black</th>\n",
       "      <td>64.018571</td>\n",
       "    </tr>\n",
       "    <tr>\n",
       "      <th>White</th>\n",
       "      <td>9.245000</td>\n",
       "    </tr>\n",
       "    <tr>\n",
       "      <th>Yellow</th>\n",
       "      <td>918.114130</td>\n",
       "    </tr>\n",
       "  </tbody>\n",
       "</table>\n",
       "</div>"
      ],
      "text/plain": [
       "              avg_list_price\n",
       "Color                       \n",
       "Black             791.372805\n",
       "Blue              860.105300\n",
       "Grey              125.000000\n",
       "Multi              48.930378\n",
       "Red              1176.605463\n",
       "Silver           1113.593927\n",
       "Silver/Black       64.018571\n",
       "White               9.245000\n",
       "Yellow            918.114130"
      ]
     },
     "execution_count": 29,
     "metadata": {},
     "output_type": "execute_result"
    }
   ],
   "source": [
    "df.groupby('Color').agg(\n",
    "    avg_list_price = ('ListPrice', 'mean')\n",
    ")"
   ]
  },
  {
   "cell_type": "markdown",
   "metadata": {},
   "source": [
    "#### Using SQL: Find the ListPrice AVERAGE per color, and only list those colors who have an average list price greater than 100"
   ]
  },
  {
   "cell_type": "code",
   "execution_count": 45,
   "metadata": {},
   "outputs": [
    {
     "data": {
      "text/plain": [
       "┌─────────┬─────────┐\n",
       "│  Color  │ average │\n",
       "│ varchar │ double  │\n",
       "├─────────┼─────────┤\n",
       "│ Grey    │   125.0 │\n",
       "│ Red     │ 1176.61 │\n",
       "│ Blue    │  860.11 │\n",
       "│ Silver  │ 1113.59 │\n",
       "│ Yellow  │  918.11 │\n",
       "│ Black   │  791.37 │\n",
       "└─────────┴─────────┘"
      ]
     },
     "execution_count": 45,
     "metadata": {},
     "output_type": "execute_result"
    }
   ],
   "source": [
    "db.sql(\"select color, round(avg(ListPrice),2) as average \" \\\n",
    "\"from df \" \\\n",
    "\"group by color \" \\\n",
    "\"having average > 100\")"
   ]
  },
  {
   "cell_type": "markdown",
   "metadata": {},
   "source": [
    "#### Using Pandas: Find the ListPrice AVERAGE per color, and only list those colors who have an average list price greater than 100"
   ]
  },
  {
   "cell_type": "code",
   "execution_count": 48,
   "metadata": {},
   "outputs": [
    {
     "data": {
      "application/vnd.microsoft.datawrangler.viewer.v0+json": {
       "columns": [
        {
         "name": "index",
         "rawType": "int64",
         "type": "integer"
        },
        {
         "name": "Color",
         "rawType": "object",
         "type": "string"
        },
        {
         "name": "avg_list_price",
         "rawType": "float64",
         "type": "float"
        }
       ],
       "ref": "66031599-ae80-40d4-bb3a-1bdc4c58d417",
       "rows": [
        [
         "0",
         "Black",
         "791.37280546875"
        ],
        [
         "1",
         "Blue",
         "860.1053"
        ],
        [
         "2",
         "Grey",
         "125.0"
        ],
        [
         "4",
         "Red",
         "1176.6054629032258"
        ],
        [
         "5",
         "Silver",
         "1113.5939266666667"
        ],
        [
         "8",
         "Yellow",
         "918.1141304347826"
        ]
       ],
       "shape": {
        "columns": 2,
        "rows": 6
       }
      },
      "text/html": [
       "<div>\n",
       "<style scoped>\n",
       "    .dataframe tbody tr th:only-of-type {\n",
       "        vertical-align: middle;\n",
       "    }\n",
       "\n",
       "    .dataframe tbody tr th {\n",
       "        vertical-align: top;\n",
       "    }\n",
       "\n",
       "    .dataframe thead th {\n",
       "        text-align: right;\n",
       "    }\n",
       "</style>\n",
       "<table border=\"1\" class=\"dataframe\">\n",
       "  <thead>\n",
       "    <tr style=\"text-align: right;\">\n",
       "      <th></th>\n",
       "      <th>Color</th>\n",
       "      <th>avg_list_price</th>\n",
       "    </tr>\n",
       "  </thead>\n",
       "  <tbody>\n",
       "    <tr>\n",
       "      <th>0</th>\n",
       "      <td>Black</td>\n",
       "      <td>791.372805</td>\n",
       "    </tr>\n",
       "    <tr>\n",
       "      <th>1</th>\n",
       "      <td>Blue</td>\n",
       "      <td>860.105300</td>\n",
       "    </tr>\n",
       "    <tr>\n",
       "      <th>2</th>\n",
       "      <td>Grey</td>\n",
       "      <td>125.000000</td>\n",
       "    </tr>\n",
       "    <tr>\n",
       "      <th>4</th>\n",
       "      <td>Red</td>\n",
       "      <td>1176.605463</td>\n",
       "    </tr>\n",
       "    <tr>\n",
       "      <th>5</th>\n",
       "      <td>Silver</td>\n",
       "      <td>1113.593927</td>\n",
       "    </tr>\n",
       "    <tr>\n",
       "      <th>8</th>\n",
       "      <td>Yellow</td>\n",
       "      <td>918.114130</td>\n",
       "    </tr>\n",
       "  </tbody>\n",
       "</table>\n",
       "</div>"
      ],
      "text/plain": [
       "    Color  avg_list_price\n",
       "0   Black      791.372805\n",
       "1    Blue      860.105300\n",
       "2    Grey      125.000000\n",
       "4     Red     1176.605463\n",
       "5  Silver     1113.593927\n",
       "8  Yellow      918.114130"
      ]
     },
     "execution_count": 48,
     "metadata": {},
     "output_type": "execute_result"
    }
   ],
   "source": [
    "df_group = df.groupby('Color').agg(\n",
    "    avg_list_price = ('ListPrice', 'mean')\n",
    ").reset_index()\n",
    "\n",
    "df_group[df_group['avg_list_price'] > 100]"
   ]
  }
 ],
 "metadata": {
  "kernelspec": {
   "display_name": "local_venv",
   "language": "python",
   "name": "python3"
  },
  "language_info": {
   "codemirror_mode": {
    "name": "ipython",
    "version": 3
   },
   "file_extension": ".py",
   "mimetype": "text/x-python",
   "name": "python",
   "nbconvert_exporter": "python",
   "pygments_lexer": "ipython3",
   "version": "3.13.5"
  }
 },
 "nbformat": 4,
 "nbformat_minor": 2
}
