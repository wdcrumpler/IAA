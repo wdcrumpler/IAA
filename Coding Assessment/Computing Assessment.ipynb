{
 "cells": [
  {
   "cell_type": "code",
   "execution_count": 72,
   "id": "ac4c3592",
   "metadata": {},
   "outputs": [],
   "source": [
    "import numpy as np\n",
    "import pandas as pd\n",
    "import duckdb as db"
   ]
  },
  {
   "cell_type": "markdown",
   "id": "a1fefb8a",
   "metadata": {},
   "source": [
    "# Part 1"
   ]
  },
  {
   "cell_type": "markdown",
   "id": "b2c834e2",
   "metadata": {},
   "source": [
    "To answer the questions, you will need to complete the following tasks:\n",
    "- Read the “titanic_1.csv” data into Python. Name your data df_t1\n",
    "- Read the “titanic_2.csv” data into Python. Name your data df_t2\n",
    "- Concatenate both dataframes. Name your new data df_titanic"
   ]
  },
  {
   "cell_type": "code",
   "execution_count": 73,
   "id": "2f3d6db7",
   "metadata": {},
   "outputs": [],
   "source": [
    "df_t1 = pd.read_csv('titanic_1.csv')\n",
    "df_t2 = pd.read_csv('titanic_2.csv')"
   ]
  },
  {
   "cell_type": "code",
   "execution_count": 74,
   "id": "3fdbd7f1",
   "metadata": {},
   "outputs": [],
   "source": [
    "df_titanic = pd.concat([df_t1, df_t2])"
   ]
  },
  {
   "cell_type": "markdown",
   "id": "309d720a",
   "metadata": {},
   "source": [
    "## Question 6\n",
    "\n",
    "How many rows are in df_titanic?"
   ]
  },
  {
   "cell_type": "code",
   "execution_count": 75,
   "id": "6c422ef0",
   "metadata": {},
   "outputs": [
    {
     "data": {
      "text/plain": [
       "(1343, 12)"
      ]
     },
     "execution_count": 75,
     "metadata": {},
     "output_type": "execute_result"
    }
   ],
   "source": [
    "df_titanic.shape"
   ]
  },
  {
   "cell_type": "markdown",
   "id": "d24062b6",
   "metadata": {},
   "source": [
    "## Question 7\n",
    "\n",
    "How many columns are in df_titanic?"
   ]
  },
  {
   "cell_type": "code",
   "execution_count": 76,
   "id": "e4c962ec",
   "metadata": {},
   "outputs": [
    {
     "data": {
      "text/plain": [
       "(1343, 12)"
      ]
     },
     "execution_count": 76,
     "metadata": {},
     "output_type": "execute_result"
    }
   ],
   "source": [
    "df_titanic.shape"
   ]
  },
  {
   "cell_type": "markdown",
   "id": "de67c045",
   "metadata": {},
   "source": [
    "## Question 8\n",
    "\n",
    "Your data contains some duplicate rows. Remove the duplicate rows, and override your dataframe. \n",
    "\n",
    "How many rows are in df_titanic after you remove the duplicate rows?"
   ]
  },
  {
   "cell_type": "code",
   "execution_count": 77,
   "id": "25a1cd5e",
   "metadata": {},
   "outputs": [],
   "source": [
    "df_titanic = df_titanic.drop_duplicates()"
   ]
  },
  {
   "cell_type": "code",
   "execution_count": 78,
   "id": "74257eca",
   "metadata": {},
   "outputs": [
    {
     "data": {
      "text/plain": [
       "(1309, 12)"
      ]
     },
     "execution_count": 78,
     "metadata": {},
     "output_type": "execute_result"
    }
   ],
   "source": [
    "df_titanic.shape"
   ]
  },
  {
   "cell_type": "markdown",
   "id": "5d6c1000",
   "metadata": {},
   "source": [
    "## Question 9\n",
    "\n",
    "Since Age is numerical, we can do a simple data imputation and fill in the missing data with the median of age\n",
    "\n",
    "What is the average of Age after the imputation is performed? (Round your answer to 1 decimal place, example: nn.n)"
   ]
  },
  {
   "cell_type": "code",
   "execution_count": 79,
   "id": "a2c2fcd3",
   "metadata": {},
   "outputs": [],
   "source": [
    "df_titanic['Age'] = df_titanic['Age'].fillna(df_titanic['Age'].median())"
   ]
  },
  {
   "cell_type": "code",
   "execution_count": 80,
   "id": "9c3784ef",
   "metadata": {},
   "outputs": [
    {
     "data": {
      "text/plain": [
       "np.float64(29.5081512605042)"
      ]
     },
     "execution_count": 80,
     "metadata": {},
     "output_type": "execute_result"
    }
   ],
   "source": [
    "df_titanic['Age'].mean()"
   ]
  },
  {
   "cell_type": "markdown",
   "id": "80b8740b",
   "metadata": {},
   "source": [
    "## Question 10\n",
    "\n",
    "Create a new column called “FamilySize” which is the sum of SibSp and Parch plus 1\n",
    "\n",
    "What is the average of FamilySize in the dataframe? (Round your answer to 1 decimal place, example: nn.n)"
   ]
  },
  {
   "cell_type": "code",
   "execution_count": 81,
   "id": "d0e0c2d5",
   "metadata": {},
   "outputs": [
    {
     "data": {
      "text/plain": [
       "np.float64(1.8823529411764706)"
      ]
     },
     "execution_count": 81,
     "metadata": {},
     "output_type": "execute_result"
    }
   ],
   "source": [
    "df_titanic['FamilySize'] = df_titanic['SibSp'] + df_titanic['Parch'] +1\n",
    "df_titanic['FamilySize'].mean()"
   ]
  },
  {
   "cell_type": "markdown",
   "id": "149be9df",
   "metadata": {},
   "source": [
    "## Question 11\n",
    "\n",
    "Create a new column FarePerPerson by dividing Fare by FamilySize\n",
    "\n",
    "What is the maximum value of FarePerPerson in the dataframe? (Round your answer to 1 decimal place, example: nn.n)"
   ]
  },
  {
   "cell_type": "code",
   "execution_count": 82,
   "id": "9ac09861",
   "metadata": {},
   "outputs": [
    {
     "data": {
      "text/plain": [
       "512.3292"
      ]
     },
     "execution_count": 82,
     "metadata": {},
     "output_type": "execute_result"
    }
   ],
   "source": [
    "df_titanic['FarePerPerson'] = df_titanic['Fare'] / df_titanic['FamilySize']\n",
    "df_titanic['FarePerPerson'].max()"
   ]
  },
  {
   "cell_type": "markdown",
   "id": "42ad9309",
   "metadata": {},
   "source": [
    "## Question 12\n",
    "\n",
    "Create a new column Fare_Range based on this mapping:\n",
    "- If FarePerPerson ≥ 24 → ‘High’\n",
    "- If 8 ≤ FarePerPerson < 24 → ‘Medium\n",
    "- If FarePerPerson < 8 → ‘Low’\n",
    "\n",
    "What is the count of the Fare_Range = ‘Medium’?"
   ]
  },
  {
   "cell_type": "code",
   "execution_count": 86,
   "id": "1c0f777e",
   "metadata": {},
   "outputs": [],
   "source": [
    "df_titanic['Fare_Range'] = np.select(\n",
    "    [df_titanic['FarePerPerson'] >= 24, \n",
    "     (df_titanic['FarePerPerson'] < 24) & (df_titanic['FarePerPerson'] >= 8), \n",
    "     df_titanic['FarePerPerson'] < 8],\n",
    "    ['High', 'Medium', 'Low'], \n",
    "    '0') "
   ]
  },
  {
   "cell_type": "code",
   "execution_count": 88,
   "id": "865da009",
   "metadata": {},
   "outputs": [
    {
     "data": {
      "application/vnd.microsoft.datawrangler.viewer.v0+json": {
       "columns": [
        {
         "name": "Fare_Range",
         "rawType": "object",
         "type": "string"
        },
        {
         "name": "count",
         "rawType": "int64",
         "type": "integer"
        }
       ],
       "ref": "cf29dd0a-0aaf-425d-a500-5fb6ca10f99c",
       "rows": [
        [
         "Low",
         "571"
        ],
        [
         "Medium",
         "408"
        ],
        [
         "High",
         "329"
        ],
        [
         "0",
         "1"
        ]
       ],
       "shape": {
        "columns": 1,
        "rows": 4
       }
      },
      "text/plain": [
       "Fare_Range\n",
       "Low       571\n",
       "Medium    408\n",
       "High      329\n",
       "0           1\n",
       "Name: count, dtype: int64"
      ]
     },
     "execution_count": 88,
     "metadata": {},
     "output_type": "execute_result"
    }
   ],
   "source": [
    "df_titanic['Fare_Range'].value_counts()"
   ]
  },
  {
   "cell_type": "markdown",
   "id": "590d7220",
   "metadata": {},
   "source": [
    "## Question 13\n",
    "\n",
    "For this portion of the assessment, you will join the “ports.csv” data with your titanic dataframe using an inner join.\n",
    "\n",
    "How many people embarked the Titanic in Ireland?\n"
   ]
  },
  {
   "cell_type": "code",
   "execution_count": 91,
   "id": "14f58fc4",
   "metadata": {},
   "outputs": [],
   "source": [
    "ports = pd.read_csv('ports.csv')"
   ]
  },
  {
   "cell_type": "code",
   "execution_count": 95,
   "id": "22c0343f",
   "metadata": {},
   "outputs": [],
   "source": [
    "df_titanic_merge = pd.merge(df_titanic, ports, how = 'inner', left_on = 'Embarked', right_on = 'PortCode')"
   ]
  },
  {
   "cell_type": "code",
   "execution_count": 96,
   "id": "35994412",
   "metadata": {},
   "outputs": [
    {
     "data": {
      "application/vnd.microsoft.datawrangler.viewer.v0+json": {
       "columns": [
        {
         "name": "Country",
         "rawType": "object",
         "type": "string"
        },
        {
         "name": "count",
         "rawType": "int64",
         "type": "integer"
        }
       ],
       "ref": "ff642207-801b-4da4-a250-f39448f0414c",
       "rows": [
        [
         "United Kingdom",
         "914"
        ],
        [
         "France",
         "269"
        ],
        [
         "Ireland",
         "124"
        ]
       ],
       "shape": {
        "columns": 1,
        "rows": 3
       }
      },
      "text/plain": [
       "Country\n",
       "United Kingdom    914\n",
       "France            269\n",
       "Ireland           124\n",
       "Name: count, dtype: int64"
      ]
     },
     "execution_count": 96,
     "metadata": {},
     "output_type": "execute_result"
    }
   ],
   "source": [
    "df_titanic_merge['Country'].value_counts()"
   ]
  },
  {
   "cell_type": "markdown",
   "id": "bba94f31",
   "metadata": {},
   "source": [
    "# Part 2"
   ]
  },
  {
   "cell_type": "markdown",
   "id": "7623b70e",
   "metadata": {},
   "source": [
    "For this portion of the assessment, we will be working with a small subset of the data from the Stanford Open Policing Project. This dataset contains information about traffic stops in the state of Mississippi during January 2013 to mid-July of 2016. To answer the questions, you will need to complete the following tasks:\n",
    "- Read the “Traffic_stops.csv” data into Python\n",
    "- Create a new column called Birth_Year which has only the year portion of driver_birthdate.\n",
    "- Create a new column called Cohort, where we assign everyone born on or after the year 2000 (>= 2000) to a label “after-2000” and everyone before 2000 (< 2000) to “pre-2000”"
   ]
  },
  {
   "cell_type": "code",
   "execution_count": 110,
   "id": "ba34608e",
   "metadata": {},
   "outputs": [
    {
     "data": {
      "application/vnd.microsoft.datawrangler.viewer.v0+json": {
       "columns": [
        {
         "name": "index",
         "rawType": "int64",
         "type": "integer"
        },
        {
         "name": "id",
         "rawType": "object",
         "type": "string"
        },
        {
         "name": "stop_date",
         "rawType": "object",
         "type": "string"
        },
        {
         "name": "county_name",
         "rawType": "object",
         "type": "string"
        },
        {
         "name": "county_fips",
         "rawType": "int64",
         "type": "integer"
        },
        {
         "name": "police_department",
         "rawType": "object",
         "type": "string"
        },
        {
         "name": "driver_gender",
         "rawType": "object",
         "type": "string"
        },
        {
         "name": "driver_birthdate",
         "rawType": "object",
         "type": "string"
        },
        {
         "name": "officer_id",
         "rawType": "object",
         "type": "string"
        },
        {
         "name": "driver_age",
         "rawType": "int64",
         "type": "integer"
        },
        {
         "name": "violation",
         "rawType": "object",
         "type": "string"
        },
        {
         "name": "Birth_Year",
         "rawType": "int64",
         "type": "integer"
        },
        {
         "name": "Cohort",
         "rawType": "object",
         "type": "string"
        }
       ],
       "ref": "4851d7f2-26b6-43d3-8bee-5aba230f3aa3",
       "rows": [
        [
         "0",
         "MS-2013-00001",
         "1/1/2013",
         "Jones",
         "28067",
         "Mississippi Highway Patrol",
         "male",
         "6/14/1950",
         "J042",
         "63",
         "Seat belt",
         "1950",
         "pre-2000"
        ],
        [
         "1",
         "MS-2013-00002",
         "1/1/2013",
         "Lauderdale",
         "28075",
         "Mississippi Highway Patrol",
         "male",
         "4/6/1967",
         "B026",
         "46",
         "Careless driving",
         "1967",
         "pre-2000"
        ],
        [
         "2",
         "MS-2013-00003",
         "1/1/2013",
         "Pike",
         "28113",
         "Mississippi Highway Patrol",
         "male",
         "4/15/1974",
         "M009",
         "39",
         "Speeding",
         "1974",
         "pre-2000"
        ],
        [
         "3",
         "MS-2013-00004",
         "1/1/2013",
         "Hancock",
         "28045",
         "Mississippi Highway Patrol",
         "male",
         "3/23/1981",
         "K035",
         "32",
         "Speeding",
         "1981",
         "pre-2000"
        ],
        [
         "4",
         "MS-2013-00005",
         "1/1/2013",
         "Holmes",
         "28051",
         "Mississippi Highway Patrol",
         "male",
         "8/3/1992",
         "D028",
         "20",
         "Speeding",
         "1992",
         "pre-2000"
        ]
       ],
       "shape": {
        "columns": 12,
        "rows": 5
       }
      },
      "text/html": [
       "<div>\n",
       "<style scoped>\n",
       "    .dataframe tbody tr th:only-of-type {\n",
       "        vertical-align: middle;\n",
       "    }\n",
       "\n",
       "    .dataframe tbody tr th {\n",
       "        vertical-align: top;\n",
       "    }\n",
       "\n",
       "    .dataframe thead th {\n",
       "        text-align: right;\n",
       "    }\n",
       "</style>\n",
       "<table border=\"1\" class=\"dataframe\">\n",
       "  <thead>\n",
       "    <tr style=\"text-align: right;\">\n",
       "      <th></th>\n",
       "      <th>id</th>\n",
       "      <th>stop_date</th>\n",
       "      <th>county_name</th>\n",
       "      <th>county_fips</th>\n",
       "      <th>police_department</th>\n",
       "      <th>driver_gender</th>\n",
       "      <th>driver_birthdate</th>\n",
       "      <th>officer_id</th>\n",
       "      <th>driver_age</th>\n",
       "      <th>violation</th>\n",
       "      <th>Birth_Year</th>\n",
       "      <th>Cohort</th>\n",
       "    </tr>\n",
       "  </thead>\n",
       "  <tbody>\n",
       "    <tr>\n",
       "      <th>0</th>\n",
       "      <td>MS-2013-00001</td>\n",
       "      <td>1/1/2013</td>\n",
       "      <td>Jones</td>\n",
       "      <td>28067</td>\n",
       "      <td>Mississippi Highway Patrol</td>\n",
       "      <td>male</td>\n",
       "      <td>6/14/1950</td>\n",
       "      <td>J042</td>\n",
       "      <td>63</td>\n",
       "      <td>Seat belt</td>\n",
       "      <td>1950</td>\n",
       "      <td>pre-2000</td>\n",
       "    </tr>\n",
       "    <tr>\n",
       "      <th>1</th>\n",
       "      <td>MS-2013-00002</td>\n",
       "      <td>1/1/2013</td>\n",
       "      <td>Lauderdale</td>\n",
       "      <td>28075</td>\n",
       "      <td>Mississippi Highway Patrol</td>\n",
       "      <td>male</td>\n",
       "      <td>4/6/1967</td>\n",
       "      <td>B026</td>\n",
       "      <td>46</td>\n",
       "      <td>Careless driving</td>\n",
       "      <td>1967</td>\n",
       "      <td>pre-2000</td>\n",
       "    </tr>\n",
       "    <tr>\n",
       "      <th>2</th>\n",
       "      <td>MS-2013-00003</td>\n",
       "      <td>1/1/2013</td>\n",
       "      <td>Pike</td>\n",
       "      <td>28113</td>\n",
       "      <td>Mississippi Highway Patrol</td>\n",
       "      <td>male</td>\n",
       "      <td>4/15/1974</td>\n",
       "      <td>M009</td>\n",
       "      <td>39</td>\n",
       "      <td>Speeding</td>\n",
       "      <td>1974</td>\n",
       "      <td>pre-2000</td>\n",
       "    </tr>\n",
       "    <tr>\n",
       "      <th>3</th>\n",
       "      <td>MS-2013-00004</td>\n",
       "      <td>1/1/2013</td>\n",
       "      <td>Hancock</td>\n",
       "      <td>28045</td>\n",
       "      <td>Mississippi Highway Patrol</td>\n",
       "      <td>male</td>\n",
       "      <td>3/23/1981</td>\n",
       "      <td>K035</td>\n",
       "      <td>32</td>\n",
       "      <td>Speeding</td>\n",
       "      <td>1981</td>\n",
       "      <td>pre-2000</td>\n",
       "    </tr>\n",
       "    <tr>\n",
       "      <th>4</th>\n",
       "      <td>MS-2013-00005</td>\n",
       "      <td>1/1/2013</td>\n",
       "      <td>Holmes</td>\n",
       "      <td>28051</td>\n",
       "      <td>Mississippi Highway Patrol</td>\n",
       "      <td>male</td>\n",
       "      <td>8/3/1992</td>\n",
       "      <td>D028</td>\n",
       "      <td>20</td>\n",
       "      <td>Speeding</td>\n",
       "      <td>1992</td>\n",
       "      <td>pre-2000</td>\n",
       "    </tr>\n",
       "  </tbody>\n",
       "</table>\n",
       "</div>"
      ],
      "text/plain": [
       "              id stop_date county_name  county_fips  \\\n",
       "0  MS-2013-00001  1/1/2013       Jones        28067   \n",
       "1  MS-2013-00002  1/1/2013  Lauderdale        28075   \n",
       "2  MS-2013-00003  1/1/2013        Pike        28113   \n",
       "3  MS-2013-00004  1/1/2013     Hancock        28045   \n",
       "4  MS-2013-00005  1/1/2013      Holmes        28051   \n",
       "\n",
       "            police_department driver_gender driver_birthdate officer_id  \\\n",
       "0  Mississippi Highway Patrol          male        6/14/1950       J042   \n",
       "1  Mississippi Highway Patrol          male         4/6/1967       B026   \n",
       "2  Mississippi Highway Patrol          male        4/15/1974       M009   \n",
       "3  Mississippi Highway Patrol          male        3/23/1981       K035   \n",
       "4  Mississippi Highway Patrol          male         8/3/1992       D028   \n",
       "\n",
       "   driver_age         violation  Birth_Year    Cohort  \n",
       "0          63         Seat belt        1950  pre-2000  \n",
       "1          46  Careless driving        1967  pre-2000  \n",
       "2          39          Speeding        1974  pre-2000  \n",
       "3          32          Speeding        1981  pre-2000  \n",
       "4          20          Speeding        1992  pre-2000  "
      ]
     },
     "execution_count": 110,
     "metadata": {},
     "output_type": "execute_result"
    }
   ],
   "source": [
    "traffic = pd.read_csv('Traffic_stops.csv')\n",
    "traffic['Birth_Year'] = traffic['driver_birthdate'].str.split('/').str[2].astype(int)\n",
    "traffic['Cohort'] = np.where(traffic['Birth_Year'] >= 2000, 'after-2000', 'pre-2000')\n",
    "traffic.head()"
   ]
  },
  {
   "cell_type": "markdown",
   "id": "c5882952",
   "metadata": {},
   "source": [
    "## Question 14\n",
    "\n",
    "How many pre-2000 observations do we have in the data?"
   ]
  },
  {
   "cell_type": "code",
   "execution_count": 111,
   "id": "1e0e7c6e",
   "metadata": {},
   "outputs": [
    {
     "data": {
      "application/vnd.microsoft.datawrangler.viewer.v0+json": {
       "columns": [
        {
         "name": "Cohort",
         "rawType": "object",
         "type": "string"
        },
        {
         "name": "count",
         "rawType": "int64",
         "type": "integer"
        }
       ],
       "ref": "f8b13feb-3dcd-40f3-a9b5-877ac9721c23",
       "rows": [
        [
         "pre-2000",
         "211035"
        ],
        [
         "after-2000",
         "41"
        ]
       ],
       "shape": {
        "columns": 1,
        "rows": 2
       }
      },
      "text/plain": [
       "Cohort\n",
       "pre-2000      211035\n",
       "after-2000        41\n",
       "Name: count, dtype: int64"
      ]
     },
     "execution_count": 111,
     "metadata": {},
     "output_type": "execute_result"
    }
   ],
   "source": [
    "traffic['Cohort'].value_counts()"
   ]
  },
  {
   "cell_type": "markdown",
   "id": "2f8f6324",
   "metadata": {},
   "source": [
    "## Question 15\n",
    "\n",
    "We are also interested in exploring the data by completing the following task:\n",
    "- For each combination of driver gender and the driving violation, calculate the mean driver age.\n",
    "\n",
    "What is the mean age for males with a Seat belt violation? (Round your answer to 1 decimal place, example: nn.n)"
   ]
  },
  {
   "cell_type": "code",
   "execution_count": 112,
   "id": "5f5c3fef",
   "metadata": {},
   "outputs": [
    {
     "data": {
      "application/vnd.microsoft.datawrangler.viewer.v0+json": {
       "columns": [
        {
         "name": "index",
         "rawType": "int64",
         "type": "integer"
        },
        {
         "name": "id",
         "rawType": "object",
         "type": "string"
        },
        {
         "name": "stop_date",
         "rawType": "object",
         "type": "string"
        },
        {
         "name": "county_name",
         "rawType": "object",
         "type": "string"
        },
        {
         "name": "county_fips",
         "rawType": "int64",
         "type": "integer"
        },
        {
         "name": "police_department",
         "rawType": "object",
         "type": "string"
        },
        {
         "name": "driver_gender",
         "rawType": "object",
         "type": "string"
        },
        {
         "name": "driver_birthdate",
         "rawType": "object",
         "type": "string"
        },
        {
         "name": "officer_id",
         "rawType": "object",
         "type": "string"
        },
        {
         "name": "driver_age",
         "rawType": "int64",
         "type": "integer"
        },
        {
         "name": "violation",
         "rawType": "object",
         "type": "string"
        },
        {
         "name": "Birth_Year",
         "rawType": "int64",
         "type": "integer"
        },
        {
         "name": "Cohort",
         "rawType": "object",
         "type": "string"
        }
       ],
       "ref": "39f1b012-3bcd-4f62-8782-dca964fcfd9c",
       "rows": [
        [
         "0",
         "MS-2013-00001",
         "1/1/2013",
         "Jones",
         "28067",
         "Mississippi Highway Patrol",
         "male",
         "6/14/1950",
         "J042",
         "63",
         "Seat belt",
         "1950",
         "pre-2000"
        ],
        [
         "1",
         "MS-2013-00002",
         "1/1/2013",
         "Lauderdale",
         "28075",
         "Mississippi Highway Patrol",
         "male",
         "4/6/1967",
         "B026",
         "46",
         "Careless driving",
         "1967",
         "pre-2000"
        ],
        [
         "2",
         "MS-2013-00003",
         "1/1/2013",
         "Pike",
         "28113",
         "Mississippi Highway Patrol",
         "male",
         "4/15/1974",
         "M009",
         "39",
         "Speeding",
         "1974",
         "pre-2000"
        ],
        [
         "3",
         "MS-2013-00004",
         "1/1/2013",
         "Hancock",
         "28045",
         "Mississippi Highway Patrol",
         "male",
         "3/23/1981",
         "K035",
         "32",
         "Speeding",
         "1981",
         "pre-2000"
        ],
        [
         "4",
         "MS-2013-00005",
         "1/1/2013",
         "Holmes",
         "28051",
         "Mississippi Highway Patrol",
         "male",
         "8/3/1992",
         "D028",
         "20",
         "Speeding",
         "1992",
         "pre-2000"
        ]
       ],
       "shape": {
        "columns": 12,
        "rows": 5
       }
      },
      "text/html": [
       "<div>\n",
       "<style scoped>\n",
       "    .dataframe tbody tr th:only-of-type {\n",
       "        vertical-align: middle;\n",
       "    }\n",
       "\n",
       "    .dataframe tbody tr th {\n",
       "        vertical-align: top;\n",
       "    }\n",
       "\n",
       "    .dataframe thead th {\n",
       "        text-align: right;\n",
       "    }\n",
       "</style>\n",
       "<table border=\"1\" class=\"dataframe\">\n",
       "  <thead>\n",
       "    <tr style=\"text-align: right;\">\n",
       "      <th></th>\n",
       "      <th>id</th>\n",
       "      <th>stop_date</th>\n",
       "      <th>county_name</th>\n",
       "      <th>county_fips</th>\n",
       "      <th>police_department</th>\n",
       "      <th>driver_gender</th>\n",
       "      <th>driver_birthdate</th>\n",
       "      <th>officer_id</th>\n",
       "      <th>driver_age</th>\n",
       "      <th>violation</th>\n",
       "      <th>Birth_Year</th>\n",
       "      <th>Cohort</th>\n",
       "    </tr>\n",
       "  </thead>\n",
       "  <tbody>\n",
       "    <tr>\n",
       "      <th>0</th>\n",
       "      <td>MS-2013-00001</td>\n",
       "      <td>1/1/2013</td>\n",
       "      <td>Jones</td>\n",
       "      <td>28067</td>\n",
       "      <td>Mississippi Highway Patrol</td>\n",
       "      <td>male</td>\n",
       "      <td>6/14/1950</td>\n",
       "      <td>J042</td>\n",
       "      <td>63</td>\n",
       "      <td>Seat belt</td>\n",
       "      <td>1950</td>\n",
       "      <td>pre-2000</td>\n",
       "    </tr>\n",
       "    <tr>\n",
       "      <th>1</th>\n",
       "      <td>MS-2013-00002</td>\n",
       "      <td>1/1/2013</td>\n",
       "      <td>Lauderdale</td>\n",
       "      <td>28075</td>\n",
       "      <td>Mississippi Highway Patrol</td>\n",
       "      <td>male</td>\n",
       "      <td>4/6/1967</td>\n",
       "      <td>B026</td>\n",
       "      <td>46</td>\n",
       "      <td>Careless driving</td>\n",
       "      <td>1967</td>\n",
       "      <td>pre-2000</td>\n",
       "    </tr>\n",
       "    <tr>\n",
       "      <th>2</th>\n",
       "      <td>MS-2013-00003</td>\n",
       "      <td>1/1/2013</td>\n",
       "      <td>Pike</td>\n",
       "      <td>28113</td>\n",
       "      <td>Mississippi Highway Patrol</td>\n",
       "      <td>male</td>\n",
       "      <td>4/15/1974</td>\n",
       "      <td>M009</td>\n",
       "      <td>39</td>\n",
       "      <td>Speeding</td>\n",
       "      <td>1974</td>\n",
       "      <td>pre-2000</td>\n",
       "    </tr>\n",
       "    <tr>\n",
       "      <th>3</th>\n",
       "      <td>MS-2013-00004</td>\n",
       "      <td>1/1/2013</td>\n",
       "      <td>Hancock</td>\n",
       "      <td>28045</td>\n",
       "      <td>Mississippi Highway Patrol</td>\n",
       "      <td>male</td>\n",
       "      <td>3/23/1981</td>\n",
       "      <td>K035</td>\n",
       "      <td>32</td>\n",
       "      <td>Speeding</td>\n",
       "      <td>1981</td>\n",
       "      <td>pre-2000</td>\n",
       "    </tr>\n",
       "    <tr>\n",
       "      <th>4</th>\n",
       "      <td>MS-2013-00005</td>\n",
       "      <td>1/1/2013</td>\n",
       "      <td>Holmes</td>\n",
       "      <td>28051</td>\n",
       "      <td>Mississippi Highway Patrol</td>\n",
       "      <td>male</td>\n",
       "      <td>8/3/1992</td>\n",
       "      <td>D028</td>\n",
       "      <td>20</td>\n",
       "      <td>Speeding</td>\n",
       "      <td>1992</td>\n",
       "      <td>pre-2000</td>\n",
       "    </tr>\n",
       "  </tbody>\n",
       "</table>\n",
       "</div>"
      ],
      "text/plain": [
       "              id stop_date county_name  county_fips  \\\n",
       "0  MS-2013-00001  1/1/2013       Jones        28067   \n",
       "1  MS-2013-00002  1/1/2013  Lauderdale        28075   \n",
       "2  MS-2013-00003  1/1/2013        Pike        28113   \n",
       "3  MS-2013-00004  1/1/2013     Hancock        28045   \n",
       "4  MS-2013-00005  1/1/2013      Holmes        28051   \n",
       "\n",
       "            police_department driver_gender driver_birthdate officer_id  \\\n",
       "0  Mississippi Highway Patrol          male        6/14/1950       J042   \n",
       "1  Mississippi Highway Patrol          male         4/6/1967       B026   \n",
       "2  Mississippi Highway Patrol          male        4/15/1974       M009   \n",
       "3  Mississippi Highway Patrol          male        3/23/1981       K035   \n",
       "4  Mississippi Highway Patrol          male         8/3/1992       D028   \n",
       "\n",
       "   driver_age         violation  Birth_Year    Cohort  \n",
       "0          63         Seat belt        1950  pre-2000  \n",
       "1          46  Careless driving        1967  pre-2000  \n",
       "2          39          Speeding        1974  pre-2000  \n",
       "3          32          Speeding        1981  pre-2000  \n",
       "4          20          Speeding        1992  pre-2000  "
      ]
     },
     "execution_count": 112,
     "metadata": {},
     "output_type": "execute_result"
    }
   ],
   "source": [
    "traffic.head()"
   ]
  },
  {
   "cell_type": "code",
   "execution_count": 115,
   "id": "46a9994c",
   "metadata": {},
   "outputs": [
    {
     "data": {
      "application/vnd.microsoft.datawrangler.viewer.v0+json": {
       "columns": [
        {
         "name": "('driver_gender', 'violation')",
         "rawType": "object",
         "type": "unknown"
        },
        {
         "name": "driver_age",
         "rawType": "float64",
         "type": "float"
        }
       ],
       "ref": "e4f9e406-ad3f-493b-8b83-b626007edcf1",
       "rows": [
        [
         "('female', 'Breaks-Lights-etc')",
         "32.441210710128054"
        ],
        [
         "('female', 'Careless driving')",
         "35.13861386138614"
        ],
        [
         "('female', 'License-Permit-Insurance')",
         "32.13464359049575"
        ],
        [
         "('female', 'Other or unknown')",
         "33.006565857540785"
        ],
        [
         "('female', 'Seat belt')",
         "34.079658605974394"
        ],
        [
         "('female', 'Speeding')",
         "35.072648920106545"
        ],
        [
         "('male', 'Breaks-Lights-etc')",
         "33.16242748772869"
        ],
        [
         "('male', 'Careless driving')",
         "35.562246278755076"
        ],
        [
         "('male', 'License-Permit-Insurance')",
         "33.626703869728296"
        ],
        [
         "('male', 'Other or unknown')",
         "34.813732970027246"
        ],
        [
         "('male', 'Seat belt')",
         "38.34513330781987"
        ],
        [
         "('male', 'Speeding')",
         "36.402142372489855"
        ]
       ],
       "shape": {
        "columns": 1,
        "rows": 12
       }
      },
      "text/plain": [
       "driver_gender  violation               \n",
       "female         Breaks-Lights-etc           32.441211\n",
       "               Careless driving            35.138614\n",
       "               License-Permit-Insurance    32.134644\n",
       "               Other or unknown            33.006566\n",
       "               Seat belt                   34.079659\n",
       "               Speeding                    35.072649\n",
       "male           Breaks-Lights-etc           33.162427\n",
       "               Careless driving            35.562246\n",
       "               License-Permit-Insurance    33.626704\n",
       "               Other or unknown            34.813733\n",
       "               Seat belt                   38.345133\n",
       "               Speeding                    36.402142\n",
       "Name: driver_age, dtype: float64"
      ]
     },
     "execution_count": 115,
     "metadata": {},
     "output_type": "execute_result"
    }
   ],
   "source": [
    "traffic.groupby(['driver_gender', 'violation'])['driver_age'].mean()"
   ]
  }
 ],
 "metadata": {
  "kernelspec": {
   "display_name": "local_venv",
   "language": "python",
   "name": "python3"
  },
  "language_info": {
   "codemirror_mode": {
    "name": "ipython",
    "version": 3
   },
   "file_extension": ".py",
   "mimetype": "text/x-python",
   "name": "python",
   "nbconvert_exporter": "python",
   "pygments_lexer": "ipython3",
   "version": "3.13.5"
  }
 },
 "nbformat": 4,
 "nbformat_minor": 5
}
