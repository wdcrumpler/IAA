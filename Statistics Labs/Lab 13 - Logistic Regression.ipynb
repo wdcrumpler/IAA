{
 "cells": [
  {
   "cell_type": "code",
   "execution_count": 1,
   "id": "ede35c4a",
   "metadata": {},
   "outputs": [],
   "source": [
    "import pandas as pd\n",
    "import numpy as np\n",
    "from sklearn.linear_model import LinearRegression\n",
    "from sklearn.model_selection import train_test_split\n",
    "import statsmodels.formula.api as smf\n",
    "from sklearn.metrics import roc_auc_score\n",
    "from scipy.stats import fisher_exact\n"
   ]
  },
  {
   "cell_type": "markdown",
   "id": "47eaf7d4",
   "metadata": {},
   "source": [
    "We will be using data from a bike sharing company (Capital Bike Share). Each hour, the number of riders (cnt) is given, along with various other attributes as shown in the table below:"
   ]
  },
  {
   "cell_type": "markdown",
   "id": "e4a40fd8",
   "metadata": {},
   "source": [
    "# Question 1\n",
    "Bring in the bike data from the GitHub repository.  In Python, create a train, test split with the test set of 0.3 and a random seed of 58426.  We will be modeling a binary response variable that indicates when casual users are more than or equal to registered users (i.e. create a \"1\" if casual >= registered, otherwise \"0\").  After you create this variable, how many 1's are there?"
   ]
  },
  {
   "cell_type": "code",
   "execution_count": 2,
   "id": "76c103d6",
   "metadata": {},
   "outputs": [],
   "source": [
    "bike = pd.read_csv('hour.csv')\n",
    "bike['more_cas'] = np.where(bike['casual'] >= bike['registered'], 1, 0)\n",
    "train, test = train_test_split(bike, test_size=0.3, random_state=58426)"
   ]
  },
  {
   "cell_type": "code",
   "execution_count": 11,
   "id": "cb0134fb",
   "metadata": {},
   "outputs": [
    {
     "data": {
      "application/vnd.microsoft.datawrangler.viewer.v0+json": {
       "columns": [
        {
         "name": "more_cas",
         "rawType": "int64",
         "type": "integer"
        },
        {
         "name": "count",
         "rawType": "int64",
         "type": "integer"
        }
       ],
       "ref": "09e8c662-5203-43ea-974d-604083c29b20",
       "rows": [
        [
         "0",
         "11889"
        ],
        [
         "1",
         "276"
        ]
       ],
       "shape": {
        "columns": 1,
        "rows": 2
       }
      },
      "text/plain": [
       "more_cas\n",
       "0    11889\n",
       "1      276\n",
       "Name: count, dtype: int64"
      ]
     },
     "execution_count": 11,
     "metadata": {},
     "output_type": "execute_result"
    }
   ],
   "source": [
    "train['more_cas'].value_counts()"
   ]
  },
  {
   "cell_type": "markdown",
   "id": "00de440d",
   "metadata": {},
   "source": [
    "# Question 2\n",
    "Using your newly created response variable, create a Logistic regression with season and temp as the predictor variables.  What is the slope coefficient for temp? Round to two decimal places."
   ]
  },
  {
   "cell_type": "code",
   "execution_count": 3,
   "id": "5a08faf3",
   "metadata": {},
   "outputs": [
    {
     "name": "stdout",
     "output_type": "stream",
     "text": [
      "Optimization terminated successfully.\n",
      "         Current function value: 0.106252\n",
      "         Iterations 9\n"
     ]
    },
    {
     "data": {
      "text/html": [
       "<table class=\"simpletable\">\n",
       "<caption>Logit Regression Results</caption>\n",
       "<tr>\n",
       "  <th>Dep. Variable:</th>       <td>more_cas</td>     <th>  No. Observations:  </th>  <td> 12165</td>  \n",
       "</tr>\n",
       "<tr>\n",
       "  <th>Model:</th>                 <td>Logit</td>      <th>  Df Residuals:      </th>  <td> 12160</td>  \n",
       "</tr>\n",
       "<tr>\n",
       "  <th>Method:</th>                 <td>MLE</td>       <th>  Df Model:          </th>  <td>     4</td>  \n",
       "</tr>\n",
       "<tr>\n",
       "  <th>Date:</th>            <td>Tue, 22 Jul 2025</td> <th>  Pseudo R-squ.:     </th>  <td>0.01913</td> \n",
       "</tr>\n",
       "<tr>\n",
       "  <th>Time:</th>                <td>09:13:46</td>     <th>  Log-Likelihood:    </th> <td> -1292.6</td> \n",
       "</tr>\n",
       "<tr>\n",
       "  <th>converged:</th>             <td>True</td>       <th>  LL-Null:           </th> <td> -1317.8</td> \n",
       "</tr>\n",
       "<tr>\n",
       "  <th>Covariance Type:</th>     <td>nonrobust</td>    <th>  LLR p-value:       </th> <td>2.971e-10</td>\n",
       "</tr>\n",
       "</table>\n",
       "<table class=\"simpletable\">\n",
       "<tr>\n",
       "         <td></td>           <th>coef</th>     <th>std err</th>      <th>z</th>      <th>P>|z|</th>  <th>[0.025</th>    <th>0.975]</th>  \n",
       "</tr>\n",
       "<tr>\n",
       "  <th>Intercept</th>      <td>   -3.9420</td> <td>    0.199</td> <td>  -19.816</td> <td> 0.000</td> <td>   -4.332</td> <td>   -3.552</td>\n",
       "</tr>\n",
       "<tr>\n",
       "  <th>C(season)[T.2]</th> <td>    0.6117</td> <td>    0.203</td> <td>    3.007</td> <td> 0.003</td> <td>    0.213</td> <td>    1.010</td>\n",
       "</tr>\n",
       "<tr>\n",
       "  <th>C(season)[T.3]</th> <td>    0.0249</td> <td>    0.272</td> <td>    0.092</td> <td> 0.927</td> <td>   -0.507</td> <td>    0.557</td>\n",
       "</tr>\n",
       "<tr>\n",
       "  <th>C(season)[T.4]</th> <td>   -0.6441</td> <td>    0.229</td> <td>   -2.811</td> <td> 0.005</td> <td>   -1.093</td> <td>   -0.195</td>\n",
       "</tr>\n",
       "<tr>\n",
       "  <th>temp</th>           <td>    0.1653</td> <td>    0.500</td> <td>    0.331</td> <td> 0.741</td> <td>   -0.814</td> <td>    1.145</td>\n",
       "</tr>\n",
       "</table>"
      ],
      "text/latex": [
       "\\begin{center}\n",
       "\\begin{tabular}{lclc}\n",
       "\\toprule\n",
       "\\textbf{Dep. Variable:}   &    more\\_cas     & \\textbf{  No. Observations:  } &    12165    \\\\\n",
       "\\textbf{Model:}           &      Logit       & \\textbf{  Df Residuals:      } &    12160    \\\\\n",
       "\\textbf{Method:}          &       MLE        & \\textbf{  Df Model:          } &        4    \\\\\n",
       "\\textbf{Date:}            & Tue, 22 Jul 2025 & \\textbf{  Pseudo R-squ.:     } &  0.01913    \\\\\n",
       "\\textbf{Time:}            &     09:13:46     & \\textbf{  Log-Likelihood:    } &   -1292.6   \\\\\n",
       "\\textbf{converged:}       &       True       & \\textbf{  LL-Null:           } &   -1317.8   \\\\\n",
       "\\textbf{Covariance Type:} &    nonrobust     & \\textbf{  LLR p-value:       } & 2.971e-10   \\\\\n",
       "\\bottomrule\n",
       "\\end{tabular}\n",
       "\\begin{tabular}{lcccccc}\n",
       "                        & \\textbf{coef} & \\textbf{std err} & \\textbf{z} & \\textbf{P$> |$z$|$} & \\textbf{[0.025} & \\textbf{0.975]}  \\\\\n",
       "\\midrule\n",
       "\\textbf{Intercept}      &      -3.9420  &        0.199     &   -19.816  &         0.000        &       -4.332    &       -3.552     \\\\\n",
       "\\textbf{C(season)[T.2]} &       0.6117  &        0.203     &     3.007  &         0.003        &        0.213    &        1.010     \\\\\n",
       "\\textbf{C(season)[T.3]} &       0.0249  &        0.272     &     0.092  &         0.927        &       -0.507    &        0.557     \\\\\n",
       "\\textbf{C(season)[T.4]} &      -0.6441  &        0.229     &    -2.811  &         0.005        &       -1.093    &       -0.195     \\\\\n",
       "\\textbf{temp}           &       0.1653  &        0.500     &     0.331  &         0.741        &       -0.814    &        1.145     \\\\\n",
       "\\bottomrule\n",
       "\\end{tabular}\n",
       "%\\caption{Logit Regression Results}\n",
       "\\end{center}"
      ],
      "text/plain": [
       "<class 'statsmodels.iolib.summary.Summary'>\n",
       "\"\"\"\n",
       "                           Logit Regression Results                           \n",
       "==============================================================================\n",
       "Dep. Variable:               more_cas   No. Observations:                12165\n",
       "Model:                          Logit   Df Residuals:                    12160\n",
       "Method:                           MLE   Df Model:                            4\n",
       "Date:                Tue, 22 Jul 2025   Pseudo R-squ.:                 0.01913\n",
       "Time:                        09:13:46   Log-Likelihood:                -1292.6\n",
       "converged:                       True   LL-Null:                       -1317.8\n",
       "Covariance Type:            nonrobust   LLR p-value:                 2.971e-10\n",
       "==================================================================================\n",
       "                     coef    std err          z      P>|z|      [0.025      0.975]\n",
       "----------------------------------------------------------------------------------\n",
       "Intercept         -3.9420      0.199    -19.816      0.000      -4.332      -3.552\n",
       "C(season)[T.2]     0.6117      0.203      3.007      0.003       0.213       1.010\n",
       "C(season)[T.3]     0.0249      0.272      0.092      0.927      -0.507       0.557\n",
       "C(season)[T.4]    -0.6441      0.229     -2.811      0.005      -1.093      -0.195\n",
       "temp               0.1653      0.500      0.331      0.741      -0.814       1.145\n",
       "==================================================================================\n",
       "\"\"\""
      ]
     },
     "execution_count": 3,
     "metadata": {},
     "output_type": "execute_result"
    }
   ],
   "source": [
    "log_model = smf.logit(\"more_cas ~ temp + C(season)\", data = train).fit()\n",
    "\n",
    "log_model.summary()"
   ]
  },
  {
   "cell_type": "markdown",
   "id": "084a5c49",
   "metadata": {},
   "source": [
    "# Question 3\n",
    "Calculate the odds ratio for temp. Round to two decimal places."
   ]
  },
  {
   "cell_type": "code",
   "execution_count": 4,
   "id": "df5423e0",
   "metadata": {},
   "outputs": [
    {
     "data": {
      "text/plain": [
       "SignificanceResult(statistic=np.float64(1.0875815889870318e-43), pvalue=np.float64(0.0877))"
      ]
     },
     "execution_count": 4,
     "metadata": {},
     "output_type": "execute_result"
    }
   ],
   "source": [
    "fisher_exact(pd.crosstab(index = train['more_cas'], columns = train['temp']))"
   ]
  },
  {
   "cell_type": "code",
   "execution_count": 7,
   "id": "c4a07ccc",
   "metadata": {},
   "outputs": [
    {
     "name": "stdout",
     "output_type": "stream",
     "text": [
      "Intercept         0.019410\n",
      "C(season)[T.2]    1.843627\n",
      "C(season)[T.3]    1.025184\n",
      "C(season)[T.4]    0.525115\n",
      "temp              1.179690\n",
      "dtype: float64\n"
     ]
    }
   ],
   "source": [
    "odds_ratio = np.exp(log_model.params)\n",
    "\n",
    "print(odds_ratio)"
   ]
  },
  {
   "cell_type": "markdown",
   "id": "279b980e",
   "metadata": {},
   "source": [
    "__________"
   ]
  },
  {
   "cell_type": "markdown",
   "id": "fb6337d5",
   "metadata": {},
   "source": [
    "Data were collected in an effort to relate the safety of certain vehicles to different aspects of those vehicles. \n",
    "\n",
    "This dataset has the following variables:\n",
    "\n",
    "· Unsafe: binary safety designation (1 = below average (unsafe), 0 = average or above average (safe))\n",
    "\n",
    "· Type: type of car (Large, Medium, Small, Sport/Utility, Sports)\n",
    "\n",
    "· Region: manufacturing region (Asia, N America)\n",
    "\n",
    "· Weight: integer value for car weight ranging from 1 to 6\n",
    "\n",
    "· Size: size of car corresponding to Type (1 = Small/Sports, 2 = Medium, 3 = Large or Sport/Utility)\n",
    "\n",
    "Do not create a training and test set and just use the whole dataset for the following analysis."
   ]
  },
  {
   "cell_type": "markdown",
   "id": "7bedb286",
   "metadata": {},
   "source": [
    "# Question 4\n",
    "Build a logistic regression, predicting Unsafe using the variables Region, Weight, and Size. Treat Weight as a continuous variable. Treat Region and Size as categorical. Which variable(s) are significant in the model?"
   ]
  },
  {
   "cell_type": "code",
   "execution_count": 17,
   "id": "1bf79a4f",
   "metadata": {},
   "outputs": [],
   "source": [
    "safety = pd.read_csv('https://raw.githubusercontent.com/IAA-Faculty/statistical_foundations/refs/heads/master/safety.csv')"
   ]
  },
  {
   "cell_type": "code",
   "execution_count": 16,
   "id": "09a05849",
   "metadata": {},
   "outputs": [
    {
     "name": "stdout",
     "output_type": "stream",
     "text": [
      "Optimization terminated successfully.\n",
      "         Current function value: 0.437523\n",
      "         Iterations 7\n"
     ]
    },
    {
     "data": {
      "text/html": [
       "<table class=\"simpletable\">\n",
       "<caption>Logit Regression Results</caption>\n",
       "<tr>\n",
       "  <th>Dep. Variable:</th>        <td>Unsafe</td>      <th>  No. Observations:  </th>  <td>    96</td>  \n",
       "</tr>\n",
       "<tr>\n",
       "  <th>Model:</th>                 <td>Logit</td>      <th>  Df Residuals:      </th>  <td>    91</td>  \n",
       "</tr>\n",
       "<tr>\n",
       "  <th>Method:</th>                 <td>MLE</td>       <th>  Df Model:          </th>  <td>     4</td>  \n",
       "</tr>\n",
       "<tr>\n",
       "  <th>Date:</th>            <td>Mon, 21 Jul 2025</td> <th>  Pseudo R-squ.:     </th>  <td>0.2956</td>  \n",
       "</tr>\n",
       "<tr>\n",
       "  <th>Time:</th>                <td>23:17:05</td>     <th>  Log-Likelihood:    </th> <td> -42.002</td> \n",
       "</tr>\n",
       "<tr>\n",
       "  <th>converged:</th>             <td>True</td>       <th>  LL-Null:           </th> <td> -59.624</td> \n",
       "</tr>\n",
       "<tr>\n",
       "  <th>Covariance Type:</th>     <td>nonrobust</td>    <th>  LLR p-value:       </th> <td>4.139e-07</td>\n",
       "</tr>\n",
       "</table>\n",
       "<table class=\"simpletable\">\n",
       "<tr>\n",
       "             <td></td>               <th>coef</th>     <th>std err</th>      <th>z</th>      <th>P>|z|</th>  <th>[0.025</th>    <th>0.975]</th>  \n",
       "</tr>\n",
       "<tr>\n",
       "  <th>Intercept</th>              <td>    2.7285</td> <td>    1.395</td> <td>    1.956</td> <td> 0.050</td> <td>   -0.005</td> <td>    5.462</td>\n",
       "</tr>\n",
       "<tr>\n",
       "  <th>C(Region)[T.N America]</th> <td>   -0.3775</td> <td>    0.562</td> <td>   -0.671</td> <td> 0.502</td> <td>   -1.480</td> <td>    0.725</td>\n",
       "</tr>\n",
       "<tr>\n",
       "  <th>C(Size)[T.2]</th>           <td>   -2.0200</td> <td>    0.625</td> <td>   -3.234</td> <td> 0.001</td> <td>   -3.244</td> <td>   -0.796</td>\n",
       "</tr>\n",
       "<tr>\n",
       "  <th>C(Size)[T.3]</th>           <td>   -2.6785</td> <td>    0.881</td> <td>   -3.040</td> <td> 0.002</td> <td>   -4.405</td> <td>   -0.952</td>\n",
       "</tr>\n",
       "<tr>\n",
       "  <th>Weight</th>                 <td>   -0.6678</td> <td>    0.459</td> <td>   -1.455</td> <td> 0.146</td> <td>   -1.567</td> <td>    0.232</td>\n",
       "</tr>\n",
       "</table>"
      ],
      "text/latex": [
       "\\begin{center}\n",
       "\\begin{tabular}{lclc}\n",
       "\\toprule\n",
       "\\textbf{Dep. Variable:}         &      Unsafe      & \\textbf{  No. Observations:  } &       96    \\\\\n",
       "\\textbf{Model:}                 &      Logit       & \\textbf{  Df Residuals:      } &       91    \\\\\n",
       "\\textbf{Method:}                &       MLE        & \\textbf{  Df Model:          } &        4    \\\\\n",
       "\\textbf{Date:}                  & Mon, 21 Jul 2025 & \\textbf{  Pseudo R-squ.:     } &   0.2956    \\\\\n",
       "\\textbf{Time:}                  &     23:17:05     & \\textbf{  Log-Likelihood:    } &   -42.002   \\\\\n",
       "\\textbf{converged:}             &       True       & \\textbf{  LL-Null:           } &   -59.624   \\\\\n",
       "\\textbf{Covariance Type:}       &    nonrobust     & \\textbf{  LLR p-value:       } & 4.139e-07   \\\\\n",
       "\\bottomrule\n",
       "\\end{tabular}\n",
       "\\begin{tabular}{lcccccc}\n",
       "                                & \\textbf{coef} & \\textbf{std err} & \\textbf{z} & \\textbf{P$> |$z$|$} & \\textbf{[0.025} & \\textbf{0.975]}  \\\\\n",
       "\\midrule\n",
       "\\textbf{Intercept}              &       2.7285  &        1.395     &     1.956  &         0.050        &       -0.005    &        5.462     \\\\\n",
       "\\textbf{C(Region)[T.N America]} &      -0.3775  &        0.562     &    -0.671  &         0.502        &       -1.480    &        0.725     \\\\\n",
       "\\textbf{C(Size)[T.2]}           &      -2.0200  &        0.625     &    -3.234  &         0.001        &       -3.244    &       -0.796     \\\\\n",
       "\\textbf{C(Size)[T.3]}           &      -2.6785  &        0.881     &    -3.040  &         0.002        &       -4.405    &       -0.952     \\\\\n",
       "\\textbf{Weight}                 &      -0.6678  &        0.459     &    -1.455  &         0.146        &       -1.567    &        0.232     \\\\\n",
       "\\bottomrule\n",
       "\\end{tabular}\n",
       "%\\caption{Logit Regression Results}\n",
       "\\end{center}"
      ],
      "text/plain": [
       "<class 'statsmodels.iolib.summary.Summary'>\n",
       "\"\"\"\n",
       "                           Logit Regression Results                           \n",
       "==============================================================================\n",
       "Dep. Variable:                 Unsafe   No. Observations:                   96\n",
       "Model:                          Logit   Df Residuals:                       91\n",
       "Method:                           MLE   Df Model:                            4\n",
       "Date:                Mon, 21 Jul 2025   Pseudo R-squ.:                  0.2956\n",
       "Time:                        23:17:05   Log-Likelihood:                -42.002\n",
       "converged:                       True   LL-Null:                       -59.624\n",
       "Covariance Type:            nonrobust   LLR p-value:                 4.139e-07\n",
       "==========================================================================================\n",
       "                             coef    std err          z      P>|z|      [0.025      0.975]\n",
       "------------------------------------------------------------------------------------------\n",
       "Intercept                  2.7285      1.395      1.956      0.050      -0.005       5.462\n",
       "C(Region)[T.N America]    -0.3775      0.562     -0.671      0.502      -1.480       0.725\n",
       "C(Size)[T.2]              -2.0200      0.625     -3.234      0.001      -3.244      -0.796\n",
       "C(Size)[T.3]              -2.6785      0.881     -3.040      0.002      -4.405      -0.952\n",
       "Weight                    -0.6678      0.459     -1.455      0.146      -1.567       0.232\n",
       "==========================================================================================\n",
       "\"\"\""
      ]
     },
     "execution_count": 16,
     "metadata": {},
     "output_type": "execute_result"
    }
   ],
   "source": [
    "log_model = smf.logit(\"Unsafe ~ C(Region) + C(Size) + Weight\", data = safety).fit()\n",
    "\n",
    "log_model.summary()"
   ]
  },
  {
   "cell_type": "markdown",
   "id": "8dcd3a05",
   "metadata": {},
   "source": [
    "# Question 5\n",
    "We can estimate concordance by using the Area Under the Curve (AUC). To do this with our model (assuming you called the model lp_model), you would do the following code:\n",
    "\n",
    "from sklearn.metrics import roc_auc_score\n",
    "\n",
    "Get predicted probabilities:\n",
    "pred_probs = lp_model.predict(safety)\n",
    "\n",
    "Calculate AUC:\n",
    "auc = roc_auc_score(safety['Unsafe'], pred_probs)\n",
    "print(f\"AUC: {auc:.3f}\")\n",
    "\n",
    "What did you get for the AUC for this model. Keep answer accurate to three decimal places."
   ]
  },
  {
   "cell_type": "code",
   "execution_count": 20,
   "id": "d4db3f27",
   "metadata": {},
   "outputs": [
    {
     "name": "stdout",
     "output_type": "stream",
     "text": [
      "AUC: 0.848\n"
     ]
    }
   ],
   "source": [
    "pred_probs = log_model.predict(safety)\n",
    "auc = roc_auc_score(safety['Unsafe'], pred_probs)\n",
    "print(f\"AUC: {auc:.3f}\")"
   ]
  },
  {
   "cell_type": "markdown",
   "id": "28b06b3b",
   "metadata": {},
   "source": [
    "# Question 6\n",
    "Remove variables one at a time that have a p-value above 0.05.  Once we are done, the variables left in the model are Size and Weight."
   ]
  },
  {
   "cell_type": "markdown",
   "id": "299581ff",
   "metadata": {},
   "source": [
    "See R Code"
   ]
  }
 ],
 "metadata": {
  "kernelspec": {
   "display_name": "local_venv",
   "language": "python",
   "name": "python3"
  },
  "language_info": {
   "codemirror_mode": {
    "name": "ipython",
    "version": 3
   },
   "file_extension": ".py",
   "mimetype": "text/x-python",
   "name": "python",
   "nbconvert_exporter": "python",
   "pygments_lexer": "ipython3",
   "version": "3.13.5"
  }
 },
 "nbformat": 4,
 "nbformat_minor": 5
}
