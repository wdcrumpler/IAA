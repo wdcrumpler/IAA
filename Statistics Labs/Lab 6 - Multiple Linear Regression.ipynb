{
 "cells": [
  {
   "cell_type": "markdown",
   "id": "eb430d9b",
   "metadata": {},
   "source": [
    "# Lab 6 - Multiple Linear Regression"
   ]
  },
  {
   "cell_type": "code",
   "execution_count": null,
   "id": "d9f30fc0",
   "metadata": {},
   "outputs": [],
   "source": [
    "import pandas as pd\n",
    "import numpy as np \n",
    "from plotnine import ggplot, aes, geom_bar, stat_qq, stat_qq_line, position_dodge, geom_col, theme_minimal\n",
    "import statsmodels.formula.api as smf\n",
    "import statsmodels.stats.api as sms"
   ]
  },
  {
   "cell_type": "markdown",
   "id": "be035f1d",
   "metadata": {},
   "source": [
    "## Question Set 1"
   ]
  },
  {
   "cell_type": "markdown",
   "id": "c0977a39",
   "metadata": {},
   "source": [
    "Use the same cars2010 dataset you used in lab 4. This dataset has variables pertaining to fuel economy of various cars. Do not create a training and test dataset; just use the whole cars2010 dataset for analysis. The cars2011 and cars2012 datasets will be used at later time periods. "
   ]
  },
  {
   "cell_type": "code",
   "execution_count": null,
   "id": "2b36ceb9",
   "metadata": {},
   "outputs": [],
   "source": [
    "cars = pd.read_csv(\"https://raw.githubusercontent.com/IAA-Faculty/statistical_foundations/refs/heads/master/cars2010.csv\")"
   ]
  },
  {
   "cell_type": "markdown",
   "id": "a8c0f9af",
   "metadata": {},
   "source": [
    "### Question 1a\n",
    "\n",
    "Run a regression predicting the FE variable using all the remaining variable. Some of these predictor variables are coded as numeric, but should be treated as categorical. The only numeric predictor should be EngDispl. All remaining predictors are categorical. What is the F-statistic from the global F-test? Round to 2 decimals."
   ]
  },
  {
   "cell_type": "code",
   "execution_count": null,
   "id": "a5da0eb9",
   "metadata": {},
   "outputs": [],
   "source": [
    "cars.columns"
   ]
  },
  {
   "cell_type": "code",
   "execution_count": null,
   "id": "634ec297",
   "metadata": {},
   "outputs": [],
   "source": [
    "fe_mlr = smf.ols(\"FE ~ EngDispl + C(NumCyl) + C(Transmission) + C(AirAspirationMethod) + C(NumGears) + C(TransLockup) + C(TransCreeperGear) + C(DriveDesc) + C(IntakeValvePerCyl) + C(ExhaustValvesPerCyl) + C(CarlineClassDesc) + C(VarValveTiming) + C(VarValveLift)\", data = cars).fit()\n",
    "fe_mlr.summary()"
   ]
  },
  {
   "cell_type": "markdown",
   "id": "29ad756b",
   "metadata": {},
   "source": [
    "Answer: 95.55"
   ]
  },
  {
   "cell_type": "markdown",
   "id": "a5918ad9",
   "metadata": {},
   "source": [
    "### Question 1b\n",
    "\n",
    "What percentage of variability can be explained by this model? Round to 1 decimal (remember, the question asks for what percentage)"
   ]
  },
  {
   "cell_type": "markdown",
   "id": "53a6c157",
   "metadata": {},
   "source": [
    "Answer: 83.3"
   ]
  },
  {
   "cell_type": "markdown",
   "id": "c9f1ccfc",
   "metadata": {},
   "source": [
    "### Question 1c\n",
    "\n",
    "Is the average effect that EngDispl has on FE significant?"
   ]
  },
  {
   "cell_type": "markdown",
   "id": "69303005",
   "metadata": {},
   "source": [
    "Answer: at p < 0.001, yes"
   ]
  },
  {
   "cell_type": "markdown",
   "id": "50b5aa72",
   "metadata": {},
   "source": [
    "### Question 1d\n",
    "\n",
    "What is the correct interpretation of the EngDispl coefficient?"
   ]
  },
  {
   "cell_type": "markdown",
   "id": "f30a1095",
   "metadata": {},
   "source": [
    "Answer: When holding all other predictors fixed, FE decreases, on average, by 2.25 for each 1 unit increase of EngDispl"
   ]
  },
  {
   "cell_type": "markdown",
   "id": "edac24e8",
   "metadata": {},
   "source": [
    "### Question 1e\n",
    "\n",
    "Trying to evaluate categorical variables in traditional linear regression output can be difficult because the p-values are for each categorical dummy variable as a whole; you need a global p-value for each categorical variable. Use the anova_lm() function on your linear regression object to get the p-values for each global categorical variable. Which of the variables has the highest p-value?"
   ]
  },
  {
   "cell_type": "code",
   "execution_count": null,
   "id": "171d77a8",
   "metadata": {},
   "outputs": [],
   "source": [
    "sms.anova_lm(fe_mlr, typ=2)"
   ]
  },
  {
   "cell_type": "markdown",
   "id": "5723c10b",
   "metadata": {},
   "source": [
    "Answer: VarValveTiming"
   ]
  },
  {
   "cell_type": "markdown",
   "id": "4c52d803",
   "metadata": {},
   "source": [
    "### Question 1f\n",
    "\n",
    "Is the answer in part e) significant?"
   ]
  },
  {
   "cell_type": "markdown",
   "id": "0c1670e7",
   "metadata": {},
   "source": [
    "Answer: at p = 0.58, no"
   ]
  },
  {
   "cell_type": "markdown",
   "id": "40afa2ef",
   "metadata": {},
   "source": [
    "### Question 1g\n",
    "\n",
    "Rerun the preceding model, but remove the variable from part e) (regardless of significance). Compare with the preceding model. Based on the global F-test, r-squared value, and adjusted r-squared value, is there a large difference between this model and the preceeding model?"
   ]
  },
  {
   "cell_type": "code",
   "execution_count": null,
   "id": "73ff1fa9",
   "metadata": {},
   "outputs": [],
   "source": [
    "fe_mlr_reduced = smf.ols(\"FE ~ EngDispl + C(NumCyl) + C(Transmission) + C(AirAspirationMethod) + C(NumGears) + C(TransLockup) + C(TransCreeperGear) + C(DriveDesc) + C(IntakeValvePerCyl) + C(ExhaustValvesPerCyl) + C(CarlineClassDesc) + C(VarValveLift)\", data = cars).fit()\n",
    "fe_mlr_reduced.summary()"
   ]
  },
  {
   "cell_type": "markdown",
   "id": "11c1308e",
   "metadata": {},
   "source": [
    "Answer: no"
   ]
  },
  {
   "cell_type": "markdown",
   "id": "66e07ac5",
   "metadata": {},
   "source": [
    "### Question 1h\n",
    "\n",
    "Now, rerun the preceding model (from part g), but eliminate the variables with the highest p-value (determined using the same method from part e) and rerunning the regression until you only have variables significant at the 0.008 level. Remember to run the model after EACH variable you remove as the p-value might change by removing a variable.\n",
    "\n",
    "Did the global F-statistic, r-squared, and adjusted r-squared values changed largely (hint for decision on F-stat: did it change the p-value much)?"
   ]
  },
  {
   "cell_type": "code",
   "execution_count": null,
   "id": "ead70ee4",
   "metadata": {},
   "outputs": [],
   "source": [
    "sms.anova_lm(fe_mlr_reduced, typ=2)"
   ]
  },
  {
   "cell_type": "code",
   "execution_count": null,
   "id": "60ec38f1",
   "metadata": {},
   "outputs": [],
   "source": [
    "fe_mlr_reduced_2 = smf.ols(\"FE ~ EngDispl + C(NumCyl) + C(Transmission) + C(AirAspirationMethod) + C(NumGears) + C(TransLockup) + C(DriveDesc) + C(IntakeValvePerCyl) + C(ExhaustValvesPerCyl) + C(CarlineClassDesc) + C(VarValveLift)\", data = cars).fit()\n",
    "sms.anova_lm(fe_mlr_reduced_2, typ=2)"
   ]
  },
  {
   "cell_type": "code",
   "execution_count": null,
   "id": "e546b466",
   "metadata": {},
   "outputs": [],
   "source": [
    "fe_mlr_reduced_3 = smf.ols(\"FE ~ EngDispl + C(NumCyl) + C(Transmission) + C(AirAspirationMethod) + C(NumGears) + C(DriveDesc) + C(IntakeValvePerCyl) + C(ExhaustValvesPerCyl) + C(CarlineClassDesc) + C(VarValveLift)\", data = cars).fit()\n",
    "sms.anova_lm(fe_mlr_reduced_3, typ=2)"
   ]
  },
  {
   "cell_type": "code",
   "execution_count": null,
   "id": "23fce1e2",
   "metadata": {},
   "outputs": [],
   "source": [
    "fe_mlr_reduced_4 = smf.ols(\"FE ~ EngDispl + C(NumCyl) + C(Transmission) + C(NumGears) + C(DriveDesc) + C(IntakeValvePerCyl) + C(ExhaustValvesPerCyl) + C(CarlineClassDesc) + C(VarValveLift)\", data = cars).fit()\n",
    "sms.anova_lm(fe_mlr_reduced_4, typ=2)"
   ]
  },
  {
   "cell_type": "code",
   "execution_count": null,
   "id": "55e7f150",
   "metadata": {},
   "outputs": [],
   "source": [
    "fe_mlr_reduced_5 = smf.ols(\"FE ~ EngDispl + C(NumCyl) + C(Transmission) + C(NumGears) + C(DriveDesc) + C(IntakeValvePerCyl) + C(CarlineClassDesc) + C(VarValveLift)\", data = cars).fit()\n",
    "sms.anova_lm(fe_mlr_reduced_5, typ=2)"
   ]
  },
  {
   "cell_type": "code",
   "execution_count": null,
   "id": "8a225146",
   "metadata": {},
   "outputs": [],
   "source": [
    "fe_mlr_reduced_5.summary()"
   ]
  },
  {
   "cell_type": "markdown",
   "id": "103ca0fa",
   "metadata": {},
   "source": [
    "Answer: No"
   ]
  },
  {
   "cell_type": "markdown",
   "id": "42285eac",
   "metadata": {},
   "source": [
    "## Question Set 2"
   ]
  },
  {
   "cell_type": "markdown",
   "id": "4f5f0327",
   "metadata": {},
   "source": [
    "Using the bike data from previous labs, you want to build a couple of different models and see which one is better. We will learn in later lectures how to do this with test datasets, but for now, we will only do this with trianing data. First, we need to split the data into training and test. Run the following code to get the training and test split (since the data is randomly divided, use the same seed or we will not end up with the same data, thus we will not necessarily get the same results).\n",
    "\n",
    "seed = 123\n",
    "np.random.seed(seed)\n",
    "\n",
    "bike['id'] = bike.index + 1\n",
    "train = bike.sample(frac=0.7, random_state=seed)\n",
    "test = bike[~bike['id'].isin(train['id'])]"
   ]
  },
  {
   "cell_type": "code",
   "execution_count": null,
   "id": "6d4b1b04",
   "metadata": {},
   "outputs": [],
   "source": [
    "\n",
    "bike = pd.read_csv(\"https://raw.githubusercontent.com/IAA-Faculty/statistical_foundations/refs/heads/master/bike.csv\")\n",
    "\n",
    "seed = 123\n",
    "np.random.seed(seed)\n",
    "\n",
    "bike['id'] = bike.index + 1\n",
    "train = bike.sample(frac=0.7, random_state=seed)\n",
    "test = bike[~bike['id'].isin(train['id'])]"
   ]
  },
  {
   "cell_type": "markdown",
   "id": "7405be77",
   "metadata": {},
   "source": [
    "### Question 2a\n",
    "\n",
    "How many observations are in the train dataset?"
   ]
  },
  {
   "cell_type": "code",
   "execution_count": null,
   "id": "515cb30e",
   "metadata": {},
   "outputs": [],
   "source": [
    "train.shape"
   ]
  },
  {
   "cell_type": "markdown",
   "id": "78bd1cfb",
   "metadata": {},
   "source": [
    "### Question 2b\n",
    "\n",
    "How many observations are in the test dataset?"
   ]
  },
  {
   "cell_type": "code",
   "execution_count": null,
   "id": "9ff32bce",
   "metadata": {},
   "outputs": [],
   "source": [
    "test.shape"
   ]
  },
  {
   "cell_type": "markdown",
   "id": "b9cfb63f",
   "metadata": {},
   "source": [
    "### Question 2c\n",
    "\n",
    "Since you know that temp and atemp are highly correlated, you can't decide which variable is better to predict number of users (cnt). You probably shouldn't use both in your model since you will have multicollinearity issues, so one strategy is to build two models and compare them to see which predicts better. \n",
    "\n",
    "Using the training data, build one model with the following variables:\n",
    "actual temperature (temp), humidity (hum), and wind speed (windspeed).\n",
    "\n",
    "What is the adjusted r-squared values for this model? (Round to 3 decimals)"
   ]
  },
  {
   "cell_type": "code",
   "execution_count": 25,
   "id": "7c7c33c0",
   "metadata": {},
   "outputs": [
    {
     "data": {
      "text/html": [
       "<table class=\"simpletable\">\n",
       "<caption>OLS Regression Results</caption>\n",
       "<tr>\n",
       "  <th>Dep. Variable:</th>           <td>cnt</td>       <th>  R-squared:         </th>  <td>   0.251</td>  \n",
       "</tr>\n",
       "<tr>\n",
       "  <th>Model:</th>                   <td>OLS</td>       <th>  Adj. R-squared:    </th>  <td>   0.251</td>  \n",
       "</tr>\n",
       "<tr>\n",
       "  <th>Method:</th>             <td>Least Squares</td>  <th>  F-statistic:       </th>  <td>   1945.</td>  \n",
       "</tr>\n",
       "<tr>\n",
       "  <th>Date:</th>             <td>Wed, 09 Jul 2025</td> <th>  Prob (F-statistic):</th>   <td>  0.00</td>   \n",
       "</tr>\n",
       "<tr>\n",
       "  <th>Time:</th>                 <td>12:32:44</td>     <th>  Log-Likelihood:    </th> <td>-1.1253e+05</td>\n",
       "</tr>\n",
       "<tr>\n",
       "  <th>No. Observations:</th>      <td> 17379</td>      <th>  AIC:               </th>  <td>2.251e+05</td> \n",
       "</tr>\n",
       "<tr>\n",
       "  <th>Df Residuals:</th>          <td> 17375</td>      <th>  BIC:               </th>  <td>2.251e+05</td> \n",
       "</tr>\n",
       "<tr>\n",
       "  <th>Df Model:</th>              <td>     3</td>      <th>                     </th>      <td> </td>     \n",
       "</tr>\n",
       "<tr>\n",
       "  <th>Covariance Type:</th>      <td>nonrobust</td>    <th>                     </th>      <td> </td>     \n",
       "</tr>\n",
       "</table>\n",
       "<table class=\"simpletable\">\n",
       "<tr>\n",
       "      <td></td>         <th>coef</th>     <th>std err</th>      <th>t</th>      <th>P>|t|</th>  <th>[0.025</th>    <th>0.975]</th>  \n",
       "</tr>\n",
       "<tr>\n",
       "  <th>Intercept</th> <td>  175.8100</td> <td>    6.187</td> <td>   28.416</td> <td> 0.000</td> <td>  163.683</td> <td>  187.937</td>\n",
       "</tr>\n",
       "<tr>\n",
       "  <th>temp</th>      <td>  362.5344</td> <td>    6.205</td> <td>   58.427</td> <td> 0.000</td> <td>  350.372</td> <td>  374.697</td>\n",
       "</tr>\n",
       "<tr>\n",
       "  <th>hum</th>       <td> -273.4651</td> <td>    6.469</td> <td>  -42.270</td> <td> 0.000</td> <td> -286.146</td> <td> -260.784</td>\n",
       "</tr>\n",
       "<tr>\n",
       "  <th>windspeed</th> <td>   26.3198</td> <td>   10.180</td> <td>    2.585</td> <td> 0.010</td> <td>    6.366</td> <td>   46.274</td>\n",
       "</tr>\n",
       "</table>\n",
       "<table class=\"simpletable\">\n",
       "<tr>\n",
       "  <th>Omnibus:</th>       <td>3606.701</td> <th>  Durbin-Watson:     </th> <td>   0.417</td>\n",
       "</tr>\n",
       "<tr>\n",
       "  <th>Prob(Omnibus):</th>  <td> 0.000</td>  <th>  Jarque-Bera (JB):  </th> <td>7255.109</td>\n",
       "</tr>\n",
       "<tr>\n",
       "  <th>Skew:</th>           <td> 1.244</td>  <th>  Prob(JB):          </th> <td>    0.00</td>\n",
       "</tr>\n",
       "<tr>\n",
       "  <th>Kurtosis:</th>       <td> 4.957</td>  <th>  Cond. No.          </th> <td>    12.5</td>\n",
       "</tr>\n",
       "</table><br/><br/>Notes:<br/>[1] Standard Errors assume that the covariance matrix of the errors is correctly specified."
      ],
      "text/latex": [
       "\\begin{center}\n",
       "\\begin{tabular}{lclc}\n",
       "\\toprule\n",
       "\\textbf{Dep. Variable:}    &       cnt        & \\textbf{  R-squared:         } &      0.251   \\\\\n",
       "\\textbf{Model:}            &       OLS        & \\textbf{  Adj. R-squared:    } &      0.251   \\\\\n",
       "\\textbf{Method:}           &  Least Squares   & \\textbf{  F-statistic:       } &      1945.   \\\\\n",
       "\\textbf{Date:}             & Wed, 09 Jul 2025 & \\textbf{  Prob (F-statistic):} &      0.00    \\\\\n",
       "\\textbf{Time:}             &     12:32:44     & \\textbf{  Log-Likelihood:    } & -1.1253e+05  \\\\\n",
       "\\textbf{No. Observations:} &       17379      & \\textbf{  AIC:               } &  2.251e+05   \\\\\n",
       "\\textbf{Df Residuals:}     &       17375      & \\textbf{  BIC:               } &  2.251e+05   \\\\\n",
       "\\textbf{Df Model:}         &           3      & \\textbf{                     } &              \\\\\n",
       "\\textbf{Covariance Type:}  &    nonrobust     & \\textbf{                     } &              \\\\\n",
       "\\bottomrule\n",
       "\\end{tabular}\n",
       "\\begin{tabular}{lcccccc}\n",
       "                   & \\textbf{coef} & \\textbf{std err} & \\textbf{t} & \\textbf{P$> |$t$|$} & \\textbf{[0.025} & \\textbf{0.975]}  \\\\\n",
       "\\midrule\n",
       "\\textbf{Intercept} &     175.8100  &        6.187     &    28.416  &         0.000        &      163.683    &      187.937     \\\\\n",
       "\\textbf{temp}      &     362.5344  &        6.205     &    58.427  &         0.000        &      350.372    &      374.697     \\\\\n",
       "\\textbf{hum}       &    -273.4651  &        6.469     &   -42.270  &         0.000        &     -286.146    &     -260.784     \\\\\n",
       "\\textbf{windspeed} &      26.3198  &       10.180     &     2.585  &         0.010        &        6.366    &       46.274     \\\\\n",
       "\\bottomrule\n",
       "\\end{tabular}\n",
       "\\begin{tabular}{lclc}\n",
       "\\textbf{Omnibus:}       & 3606.701 & \\textbf{  Durbin-Watson:     } &    0.417  \\\\\n",
       "\\textbf{Prob(Omnibus):} &   0.000  & \\textbf{  Jarque-Bera (JB):  } & 7255.109  \\\\\n",
       "\\textbf{Skew:}          &   1.244  & \\textbf{  Prob(JB):          } &     0.00  \\\\\n",
       "\\textbf{Kurtosis:}      &   4.957  & \\textbf{  Cond. No.          } &     12.5  \\\\\n",
       "\\bottomrule\n",
       "\\end{tabular}\n",
       "%\\caption{OLS Regression Results}\n",
       "\\end{center}\n",
       "\n",
       "Notes: \\newline\n",
       " [1] Standard Errors assume that the covariance matrix of the errors is correctly specified."
      ],
      "text/plain": [
       "<class 'statsmodels.iolib.summary.Summary'>\n",
       "\"\"\"\n",
       "                            OLS Regression Results                            \n",
       "==============================================================================\n",
       "Dep. Variable:                    cnt   R-squared:                       0.251\n",
       "Model:                            OLS   Adj. R-squared:                  0.251\n",
       "Method:                 Least Squares   F-statistic:                     1945.\n",
       "Date:                Wed, 09 Jul 2025   Prob (F-statistic):               0.00\n",
       "Time:                        12:32:44   Log-Likelihood:            -1.1253e+05\n",
       "No. Observations:               17379   AIC:                         2.251e+05\n",
       "Df Residuals:                   17375   BIC:                         2.251e+05\n",
       "Df Model:                           3                                         \n",
       "Covariance Type:            nonrobust                                         \n",
       "==============================================================================\n",
       "                 coef    std err          t      P>|t|      [0.025      0.975]\n",
       "------------------------------------------------------------------------------\n",
       "Intercept    175.8100      6.187     28.416      0.000     163.683     187.937\n",
       "temp         362.5344      6.205     58.427      0.000     350.372     374.697\n",
       "hum         -273.4651      6.469    -42.270      0.000    -286.146    -260.784\n",
       "windspeed     26.3198     10.180      2.585      0.010       6.366      46.274\n",
       "==============================================================================\n",
       "Omnibus:                     3606.701   Durbin-Watson:                   0.417\n",
       "Prob(Omnibus):                  0.000   Jarque-Bera (JB):             7255.109\n",
       "Skew:                           1.244   Prob(JB):                         0.00\n",
       "Kurtosis:                       4.957   Cond. No.                         12.5\n",
       "==============================================================================\n",
       "\n",
       "Notes:\n",
       "[1] Standard Errors assume that the covariance matrix of the errors is correctly specified.\n",
       "\"\"\""
      ]
     },
     "execution_count": 25,
     "metadata": {},
     "output_type": "execute_result"
    }
   ],
   "source": [
    "bike_model_1 = smf.ols(\"cnt ~ temp + hum + windspeed\", data = bike).fit()\n",
    "bike_model_1.summary()"
   ]
  },
  {
   "cell_type": "markdown",
   "id": "1e7161b1",
   "metadata": {},
   "source": [
    "### Question 2d\n",
    "\n",
    "Is the global F-test significant?"
   ]
  },
  {
   "cell_type": "markdown",
   "id": "b4cef53a",
   "metadata": {},
   "source": [
    "Answer: At p < 0.01, yes"
   ]
  },
  {
   "cell_type": "markdown",
   "id": "e0fc56e6",
   "metadata": {},
   "source": [
    "### Question 2e\n",
    "\n",
    "Which variables are significant at the .01 significance level?"
   ]
  },
  {
   "cell_type": "markdown",
   "id": "4ab6b321",
   "metadata": {},
   "source": [
    "Answer: At p < 0.001, both temp and humidity are. At p = 0.01, windspeed is arguably significant"
   ]
  },
  {
   "cell_type": "markdown",
   "id": "fc118d3a",
   "metadata": {},
   "source": [
    "### Question 2f\n",
    "\n",
    "Build a second model wih the following variables: feeling temperature (atemp), humidity (hum), and wind speed (windspeed). What is the adjusted r-squared value? (round to 3 decimals)"
   ]
  },
  {
   "cell_type": "code",
   "execution_count": null,
   "id": "8e24fdf5",
   "metadata": {},
   "outputs": [
    {
     "data": {
      "text/html": [
       "<table class=\"simpletable\">\n",
       "<caption>OLS Regression Results</caption>\n",
       "<tr>\n",
       "  <th>Dep. Variable:</th>           <td>cnt</td>       <th>  R-squared:         </th>  <td>   0.253</td>  \n",
       "</tr>\n",
       "<tr>\n",
       "  <th>Model:</th>                   <td>OLS</td>       <th>  Adj. R-squared:    </th>  <td>   0.253</td>  \n",
       "</tr>\n",
       "<tr>\n",
       "  <th>Method:</th>             <td>Least Squares</td>  <th>  F-statistic:       </th>  <td>   1964.</td>  \n",
       "</tr>\n",
       "<tr>\n",
       "  <th>Date:</th>             <td>Wed, 09 Jul 2025</td> <th>  Prob (F-statistic):</th>   <td>  0.00</td>   \n",
       "</tr>\n",
       "<tr>\n",
       "  <th>Time:</th>                 <td>12:35:55</td>     <th>  Log-Likelihood:    </th> <td>-1.1250e+05</td>\n",
       "</tr>\n",
       "<tr>\n",
       "  <th>No. Observations:</th>      <td> 17379</td>      <th>  AIC:               </th>  <td>2.250e+05</td> \n",
       "</tr>\n",
       "<tr>\n",
       "  <th>Df Residuals:</th>          <td> 17375</td>      <th>  BIC:               </th>  <td>2.250e+05</td> \n",
       "</tr>\n",
       "<tr>\n",
       "  <th>Df Model:</th>              <td>     3</td>      <th>                     </th>      <td> </td>     \n",
       "</tr>\n",
       "<tr>\n",
       "  <th>Covariance Type:</th>      <td>nonrobust</td>    <th>                     </th>      <td> </td>     \n",
       "</tr>\n",
       "</table>\n",
       "<table class=\"simpletable\">\n",
       "<tr>\n",
       "      <td></td>         <th>coef</th>     <th>std err</th>      <th>t</th>      <th>P>|t|</th>  <th>[0.025</th>    <th>0.975]</th>  \n",
       "</tr>\n",
       "<tr>\n",
       "  <th>Intercept</th> <td>  158.6952</td> <td>    6.335</td> <td>   25.049</td> <td> 0.000</td> <td>  146.277</td> <td>  171.113</td>\n",
       "</tr>\n",
       "<tr>\n",
       "  <th>atemp</th>     <td>  409.2251</td> <td>    6.952</td> <td>   58.864</td> <td> 0.000</td> <td>  395.598</td> <td>  422.852</td>\n",
       "</tr>\n",
       "<tr>\n",
       "  <th>hum</th>       <td> -275.8632</td> <td>    6.458</td> <td>  -42.716</td> <td> 0.000</td> <td> -288.522</td> <td> -263.205</td>\n",
       "</tr>\n",
       "<tr>\n",
       "  <th>windspeed</th> <td>   47.8602</td> <td>   10.191</td> <td>    4.697</td> <td> 0.000</td> <td>   27.886</td> <td>   67.835</td>\n",
       "</tr>\n",
       "</table>\n",
       "<table class=\"simpletable\">\n",
       "<tr>\n",
       "  <th>Omnibus:</th>       <td>3588.025</td> <th>  Durbin-Watson:     </th> <td>   0.420</td>\n",
       "</tr>\n",
       "<tr>\n",
       "  <th>Prob(Omnibus):</th>  <td> 0.000</td>  <th>  Jarque-Bera (JB):  </th> <td>7231.830</td>\n",
       "</tr>\n",
       "<tr>\n",
       "  <th>Skew:</th>           <td> 1.236</td>  <th>  Prob(JB):          </th> <td>    0.00</td>\n",
       "</tr>\n",
       "<tr>\n",
       "  <th>Kurtosis:</th>       <td> 4.968</td>  <th>  Cond. No.          </th> <td>    12.6</td>\n",
       "</tr>\n",
       "</table><br/><br/>Notes:<br/>[1] Standard Errors assume that the covariance matrix of the errors is correctly specified."
      ],
      "text/latex": [
       "\\begin{center}\n",
       "\\begin{tabular}{lclc}\n",
       "\\toprule\n",
       "\\textbf{Dep. Variable:}    &       cnt        & \\textbf{  R-squared:         } &      0.253   \\\\\n",
       "\\textbf{Model:}            &       OLS        & \\textbf{  Adj. R-squared:    } &      0.253   \\\\\n",
       "\\textbf{Method:}           &  Least Squares   & \\textbf{  F-statistic:       } &      1964.   \\\\\n",
       "\\textbf{Date:}             & Wed, 09 Jul 2025 & \\textbf{  Prob (F-statistic):} &      0.00    \\\\\n",
       "\\textbf{Time:}             &     12:35:55     & \\textbf{  Log-Likelihood:    } & -1.1250e+05  \\\\\n",
       "\\textbf{No. Observations:} &       17379      & \\textbf{  AIC:               } &  2.250e+05   \\\\\n",
       "\\textbf{Df Residuals:}     &       17375      & \\textbf{  BIC:               } &  2.250e+05   \\\\\n",
       "\\textbf{Df Model:}         &           3      & \\textbf{                     } &              \\\\\n",
       "\\textbf{Covariance Type:}  &    nonrobust     & \\textbf{                     } &              \\\\\n",
       "\\bottomrule\n",
       "\\end{tabular}\n",
       "\\begin{tabular}{lcccccc}\n",
       "                   & \\textbf{coef} & \\textbf{std err} & \\textbf{t} & \\textbf{P$> |$t$|$} & \\textbf{[0.025} & \\textbf{0.975]}  \\\\\n",
       "\\midrule\n",
       "\\textbf{Intercept} &     158.6952  &        6.335     &    25.049  &         0.000        &      146.277    &      171.113     \\\\\n",
       "\\textbf{atemp}     &     409.2251  &        6.952     &    58.864  &         0.000        &      395.598    &      422.852     \\\\\n",
       "\\textbf{hum}       &    -275.8632  &        6.458     &   -42.716  &         0.000        &     -288.522    &     -263.205     \\\\\n",
       "\\textbf{windspeed} &      47.8602  &       10.191     &     4.697  &         0.000        &       27.886    &       67.835     \\\\\n",
       "\\bottomrule\n",
       "\\end{tabular}\n",
       "\\begin{tabular}{lclc}\n",
       "\\textbf{Omnibus:}       & 3588.025 & \\textbf{  Durbin-Watson:     } &    0.420  \\\\\n",
       "\\textbf{Prob(Omnibus):} &   0.000  & \\textbf{  Jarque-Bera (JB):  } & 7231.830  \\\\\n",
       "\\textbf{Skew:}          &   1.236  & \\textbf{  Prob(JB):          } &     0.00  \\\\\n",
       "\\textbf{Kurtosis:}      &   4.968  & \\textbf{  Cond. No.          } &     12.6  \\\\\n",
       "\\bottomrule\n",
       "\\end{tabular}\n",
       "%\\caption{OLS Regression Results}\n",
       "\\end{center}\n",
       "\n",
       "Notes: \\newline\n",
       " [1] Standard Errors assume that the covariance matrix of the errors is correctly specified."
      ],
      "text/plain": [
       "<class 'statsmodels.iolib.summary.Summary'>\n",
       "\"\"\"\n",
       "                            OLS Regression Results                            \n",
       "==============================================================================\n",
       "Dep. Variable:                    cnt   R-squared:                       0.253\n",
       "Model:                            OLS   Adj. R-squared:                  0.253\n",
       "Method:                 Least Squares   F-statistic:                     1964.\n",
       "Date:                Wed, 09 Jul 2025   Prob (F-statistic):               0.00\n",
       "Time:                        12:35:55   Log-Likelihood:            -1.1250e+05\n",
       "No. Observations:               17379   AIC:                         2.250e+05\n",
       "Df Residuals:                   17375   BIC:                         2.250e+05\n",
       "Df Model:                           3                                         \n",
       "Covariance Type:            nonrobust                                         \n",
       "==============================================================================\n",
       "                 coef    std err          t      P>|t|      [0.025      0.975]\n",
       "------------------------------------------------------------------------------\n",
       "Intercept    158.6952      6.335     25.049      0.000     146.277     171.113\n",
       "atemp        409.2251      6.952     58.864      0.000     395.598     422.852\n",
       "hum         -275.8632      6.458    -42.716      0.000    -288.522    -263.205\n",
       "windspeed     47.8602     10.191      4.697      0.000      27.886      67.835\n",
       "==============================================================================\n",
       "Omnibus:                     3588.025   Durbin-Watson:                   0.420\n",
       "Prob(Omnibus):                  0.000   Jarque-Bera (JB):             7231.830\n",
       "Skew:                           1.236   Prob(JB):                         0.00\n",
       "Kurtosis:                       4.968   Cond. No.                         12.6\n",
       "==============================================================================\n",
       "\n",
       "Notes:\n",
       "[1] Standard Errors assume that the covariance matrix of the errors is correctly specified.\n",
       "\"\"\""
      ]
     },
     "execution_count": 26,
     "metadata": {},
     "output_type": "execute_result"
    },
    {
     "ename": "",
     "evalue": "",
     "output_type": "error",
     "traceback": [
      "\u001b[1;31mThe Kernel crashed while executing code in the current cell or a previous cell. \n",
      "\u001b[1;31mPlease review the code in the cell(s) to identify a possible cause of the failure. \n",
      "\u001b[1;31mClick <a href='https://aka.ms/vscodeJupyterKernelCrash'>here</a> for more info. \n",
      "\u001b[1;31mView Jupyter <a href='command:jupyter.viewOutput'>log</a> for further details."
     ]
    }
   ],
   "source": [
    "bike_model_2 = smf.ols(\"cnt ~ atemp + hum + windspeed\", data = bike).fit()\n",
    "bike_model_2.summary()"
   ]
  },
  {
   "cell_type": "markdown",
   "id": "7a166e25",
   "metadata": {},
   "source": [
    "### Question 2g\n",
    "\n",
    "Is the global F-test significant?"
   ]
  },
  {
   "cell_type": "markdown",
   "id": "d8ee5814",
   "metadata": {},
   "source": [
    "Answer: At p < 0.01, yes"
   ]
  },
  {
   "cell_type": "markdown",
   "id": "67a59e99",
   "metadata": {},
   "source": [
    "### Question 2h\n",
    "\n",
    "Which variables are significant at the .01 significance level?"
   ]
  },
  {
   "cell_type": "markdown",
   "id": "e4c96ca9",
   "metadata": {},
   "source": [
    "Answer: At p < 0.001, temp, humidity, and windspeed are all significant"
   ]
  }
 ],
 "metadata": {
  "kernelspec": {
   "display_name": "local_venv",
   "language": "python",
   "name": "python3"
  },
  "language_info": {
   "codemirror_mode": {
    "name": "ipython",
    "version": 3
   },
   "file_extension": ".py",
   "mimetype": "text/x-python",
   "name": "python",
   "nbconvert_exporter": "python",
   "pygments_lexer": "ipython3",
   "version": "3.13.5"
  }
 },
 "nbformat": 4,
 "nbformat_minor": 5
}
