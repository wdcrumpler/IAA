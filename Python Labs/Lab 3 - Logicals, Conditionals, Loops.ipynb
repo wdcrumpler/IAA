{
 "cells": [
  {
   "cell_type": "markdown",
   "id": "d299214a",
   "metadata": {},
   "source": [
    "Q12 - Write a program that takes an integer as input and prints whether it is even or odd."
   ]
  },
  {
   "cell_type": "code",
   "execution_count": null,
   "id": "2563db47",
   "metadata": {},
   "outputs": [],
   "source": [
    "print(\"Please enter an integer:\")\n",
    "x = int(input())\n",
    "if x%2 == 0:\n",
    "    print(\"That number is even\")\n",
    "else:\n",
    "    print(\"That number is odd\")"
   ]
  },
  {
   "cell_type": "markdown",
   "id": "56b3abc1",
   "metadata": {},
   "source": [
    "Q13 - Write a program that checks whether an entered number is positive, negative, or zero."
   ]
  },
  {
   "cell_type": "code",
   "execution_count": null,
   "id": "7913ae18",
   "metadata": {},
   "outputs": [],
   "source": [
    "print(\"Please enter an integer:\")\n",
    "x = int(input())\n",
    "if x == 0:\n",
    "    print(\"That number is zero\")\n",
    "elif x>0:\n",
    "    print(\"That number is positive\")\n",
    "else:\n",
    "    print(\"That number is negative\")"
   ]
  }
 ],
 "metadata": {
  "kernelspec": {
   "display_name": "Python 3",
   "language": "python",
   "name": "python3"
  },
  "language_info": {
   "codemirror_mode": {
    "name": "ipython",
    "version": 3
   },
   "file_extension": ".py",
   "mimetype": "text/x-python",
   "name": "python",
   "nbconvert_exporter": "python",
   "pygments_lexer": "ipython3",
   "version": "3.13.3"
  }
 },
 "nbformat": 4,
 "nbformat_minor": 5
}
