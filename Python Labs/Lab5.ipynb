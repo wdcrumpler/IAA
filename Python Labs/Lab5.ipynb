{
 "cells": [
  {
   "cell_type": "code",
   "execution_count": 10,
   "id": "1cff8e7c",
   "metadata": {},
   "outputs": [],
   "source": [
    "import numpy as np\n",
    "import pandas as pd"
   ]
  },
  {
   "cell_type": "markdown",
   "id": "0c6207cf",
   "metadata": {},
   "source": [
    "Q12 - Create a pandas DataFrame with the following columns: \"Name\", \"Age\", \"Grade\", and \"City\". Add 5 sample rows and print the DataFrame."
   ]
  },
  {
   "cell_type": "code",
   "execution_count": 12,
   "id": "63728571",
   "metadata": {},
   "outputs": [
    {
     "name": "stdout",
     "output_type": "stream",
     "text": [
      "    Name  Age  Grade         City\n",
      "0   John   23     86      Raleigh\n",
      "1   Jane   24     93       Durham\n",
      "2    Tom   25     72    Charlotte\n",
      "3   Dick   26     84   High Point\n",
      "4  Harry   27     90  Rocky Mount\n"
     ]
    }
   ],
   "source": [
    "data = {\"Name\": [\"John\", \"Jane\", \"Tom\", \"Dick\", \"Harry\"],\n",
    "\"Age\": [23, 24, 25, 26, 27],\n",
    "\"Grade\": [86,93,72,84,90],\n",
    "\"City\": [\"Raleigh\", \"Durham\", \"Charlotte\", \"High Point\", \"Rocky Mount\"]}\n",
    "\n",
    "df = pd.DataFrame(data)\n",
    "print(df)\n"
   ]
  },
  {
   "cell_type": "markdown",
   "id": "c1ff7a4b",
   "metadata": {},
   "source": [
    "Q13 - Using the DataFrame from Q14, print only the students who scored more than 85."
   ]
  },
  {
   "cell_type": "code",
   "execution_count": 17,
   "id": "69e8f194",
   "metadata": {},
   "outputs": [
    {
     "name": "stdout",
     "output_type": "stream",
     "text": [
      "   ID     Name  Grade  Attendance  Subject\n",
      "0   1    Alice     85          95     Math\n",
      "1   2      Bob     92          88  Science\n",
      "2   3  Charlie     76          60     Math\n",
      "3   4    David     88          70  History\n",
      "4   5      Eve     90          98     Math\n"
     ]
    },
    {
     "ename": "AttributeError",
     "evalue": "'DataFrame' object has no attribute 'column'",
     "output_type": "error",
     "traceback": [
      "\u001b[31m---------------------------------------------------------------------------\u001b[39m",
      "\u001b[31mAttributeError\u001b[39m                            Traceback (most recent call last)",
      "\u001b[32m~\\AppData\\Local\\Temp\\ipykernel_45028\\2692598009.py\u001b[39m in \u001b[36m?\u001b[39m\u001b[34m()\u001b[39m\n\u001b[32m      1\u001b[39m students = pd.read_csv(\u001b[33m'students.csv'\u001b[39m)\n\u001b[32m      2\u001b[39m print(students.head())\n\u001b[32m----> \u001b[39m\u001b[32m3\u001b[39m print(students.column)\n\u001b[32m      4\u001b[39m print(students.shape)\n",
      "\u001b[32mc:\\Users\\wdcru\\AppData\\Local\\Programs\\Python\\Python313\\Lib\\site-packages\\pandas\\core\\generic.py\u001b[39m in \u001b[36m?\u001b[39m\u001b[34m(self, name)\u001b[39m\n\u001b[32m   6314\u001b[39m             \u001b[38;5;28;01mand\u001b[39;00m name \u001b[38;5;28;01mnot\u001b[39;00m \u001b[38;5;28;01min\u001b[39;00m self._accessors\n\u001b[32m   6315\u001b[39m             \u001b[38;5;28;01mand\u001b[39;00m self._info_axis._can_hold_identifiers_and_holds_name(name)\n\u001b[32m   6316\u001b[39m         ):\n\u001b[32m   6317\u001b[39m             \u001b[38;5;28;01mreturn\u001b[39;00m self[name]\n\u001b[32m-> \u001b[39m\u001b[32m6318\u001b[39m         \u001b[38;5;28;01mreturn\u001b[39;00m object.__getattribute__(self, name)\n",
      "\u001b[31mAttributeError\u001b[39m: 'DataFrame' object has no attribute 'column'"
     ]
    }
   ],
   "source": [
    "students = pd.read_csv('students.csv')\n",
    "print(students.head())\n",
    "print(students.column)\n",
    "print(students.shape)\n"
   ]
  }
 ],
 "metadata": {
  "kernelspec": {
   "display_name": "Python 3",
   "language": "python",
   "name": "python3"
  },
  "language_info": {
   "codemirror_mode": {
    "name": "ipython",
    "version": 3
   },
   "file_extension": ".py",
   "mimetype": "text/x-python",
   "name": "python",
   "nbconvert_exporter": "python",
   "pygments_lexer": "ipython3",
   "version": "3.13.3"
  }
 },
 "nbformat": 4,
 "nbformat_minor": 5
}
