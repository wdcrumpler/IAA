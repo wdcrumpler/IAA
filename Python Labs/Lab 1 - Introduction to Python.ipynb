{
 "cells": [
  {
   "cell_type": "markdown",
   "id": "c7542d2e",
   "metadata": {},
   "source": [
    "# Lab 1 - Introduction to Python"
   ]
  },
  {
   "cell_type": "markdown",
   "id": "f9196f17",
   "metadata": {},
   "source": [
    "## Question 1\n",
    "What symbol is used to start a comment in Python?\n",
    "\n",
    "Answer: #"
   ]
  },
  {
   "cell_type": "markdown",
   "id": "b948c772",
   "metadata": {},
   "source": [
    "## Question 2\n",
    "What will be the output of print(2 ** 3) in Python?\n",
    "\n",
    "Answer: 8"
   ]
  },
  {
   "cell_type": "markdown",
   "id": "1ccf05e7",
   "metadata": {},
   "source": [
    "## Question 3\n",
    "Which command checks the installed Python version?\n",
    "\n",
    "Answer: python --version"
   ]
  },
  {
   "cell_type": "markdown",
   "id": "a48455ec",
   "metadata": {},
   "source": [
    "## Question 4\n",
    "Which Python package is primarily used for data manipulation?\n",
    "\n",
    "Answer: pandas"
   ]
  },
  {
   "cell_type": "markdown",
   "id": "415c35f1",
   "metadata": {},
   "source": [
    "## Question 5\n",
    "What of the following is true about docstrings in Python?\n",
    "\n",
    "Answer: You can access docstrings programmatically in Python"
   ]
  },
  {
   "cell_type": "markdown",
   "id": "4fadf03e",
   "metadata": {},
   "source": [
    "## Question 6\n",
    "What is the correct file extension for Python files?\n",
    "\n",
    "Answer: .py"
   ]
  },
  {
   "cell_type": "markdown",
   "id": "d0915612",
   "metadata": {},
   "source": [
    "## Question 7\n",
    "What is the output of print(type(5))?\n",
    "\n",
    "Answer: <class 'int'>"
   ]
  },
  {
   "cell_type": "markdown",
   "id": "37e67741",
   "metadata": {},
   "source": [
    "## Question 8\n",
    " Which keyword is used to define a function in Python?\n",
    "\n",
    "Answer: def"
   ]
  }
 ],
 "metadata": {
  "language_info": {
   "name": "python"
  }
 },
 "nbformat": 4,
 "nbformat_minor": 5
}
