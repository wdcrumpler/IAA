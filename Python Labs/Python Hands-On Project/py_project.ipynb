{
 "cells": [
  {
   "cell_type": "markdown",
   "id": "2241ea77",
   "metadata": {},
   "source": [
    "# Python Hands-On Project\n",
    "\n",
    "## Project Description\n",
    "\n",
    "The U.S. Department of Transportation's (DOT) Bureau of Transportation Statistics tracks the on-time performance of domestic flights operated by large air carriers. Summary information on the number of on-time, delayed, canceled, and diverted flights is published in DOT's monthly Air Travel Consumer Report and in this dataset of 2015 flight delays and cancellations.\n",
    "\n",
    "You have received three CSV files. After loading the data into Python, answer the following questions:\n",
    "1. Load the three CSV files (airlines.csv, airports.csv, and flights.csv). Display the shape and column names for each file.\n",
    "2. Remove all cancelled and diverted flights (5 points).\n",
    "3. Replace missing values in all delay reason columns ('AIR_SYSTEM_DELAY', 'SECURITY_DELAY', 'AIRLINE_DELAY', 'LATE_AIRCRAFT_DELAY', 'WEATHER_DELAY') with 0. Show the number of missing values for each of the columns before replacement, and confirm that missing values have been replaced (5 points).\n",
    "4. Drop rows with missing values in 'ARRIVAL_TIME', 'DEPARTURE_TIME', or 'AIR_TIME'. Show the number of flights before and after dropping the missing values (5 points).\n",
    "5. Create a column 'TOTAL_DELAY' by summing all five delay reason columns for each flight (5 points).\n",
    "6. Create a new column 'SCHEDULED_HOUR' from 'SCHEDULED_DEPARTURE' (e.g., 1330 → 13) (5 points).\n",
    "7. In the flights dataset, how many unique airlines are there? List their airline code and airline names (7.5 points).\n",
    "8. What are the top 5 most common destination airports by number of flights? List the IATA_CODE, Airport Name, and flight count (7.5 points).\n",
    "9. Which destination city has the highest average total delay? (7.5 points).\n",
    "10. What is the average arrival delay for each airline? (7.5 points).\n",
    "11. How many flights were cancelled per airline? (7.5 points).\n",
    "12. Which hour of the day had the most scheduled departures? (7.5 points).\n",
    "13. Which city had the most flights arriving overall? (5 points).\n",
    "14. What percentage of flights were delayed ('ARRIVAL_DELAY' > 15)? (5 points).\n",
    "15. Create a histogram of flight distances (10 points).\n",
    "16. Create a bar chart showing the top 5 airlines with the highest average arrival delay (10 points)."
   ]
  },
  {
   "cell_type": "code",
   "execution_count": 62,
   "id": "24bbf8e2",
   "metadata": {},
   "outputs": [],
   "source": [
    "import pandas as pd\n",
    "import numpy as np\n",
    "import plotnine as p9\n",
    "import copy"
   ]
  },
  {
   "cell_type": "markdown",
   "id": "f77a6285",
   "metadata": {},
   "source": [
    "# 1. Load & Diplay Files\n",
    "Load the three CSV files (airlines.csv, airports.csv, and flights.csv). Display the shape and column names for each file."
   ]
  },
  {
   "cell_type": "code",
   "execution_count": 63,
   "id": "c0dc55ce",
   "metadata": {},
   "outputs": [
    {
     "name": "stdout",
     "output_type": "stream",
     "text": [
      "The columns of the airlines.csv file is ['IATA_CODE', 'AIRLINE']\n",
      "The shape of the airlines.csv file is (14, 2)\n"
     ]
    }
   ],
   "source": [
    "airlines = pd.read_csv(\"airlines.csv\")\n",
    "print(f\"The columns of the airlines.csv file is {airlines.columns.tolist()}\")\n",
    "print(f\"The shape of the airlines.csv file is {airlines.shape}\")"
   ]
  },
  {
   "cell_type": "code",
   "execution_count": 64,
   "id": "84d71d8c",
   "metadata": {},
   "outputs": [
    {
     "name": "stdout",
     "output_type": "stream",
     "text": [
      "The columns of the airports.csv file is ['IATA_CODE', 'AIRPORT', 'CITY', 'STATE', 'COUNTRY', 'LATITUDE', 'LONGITUDE']\n",
      "The shape of the airports.csv file is (322, 7)\n"
     ]
    }
   ],
   "source": [
    "airports = pd.read_csv(\"airports.csv\")\n",
    "print(f\"The columns of the airports.csv file is {airports.columns.tolist()}\")\n",
    "print(f\"The shape of the airports.csv file is {airports.shape}\")"
   ]
  },
  {
   "cell_type": "code",
   "execution_count": 65,
   "id": "4eea5d50",
   "metadata": {},
   "outputs": [
    {
     "name": "stdout",
     "output_type": "stream",
     "text": [
      "The columns of the flights.csv file is Index(['YEAR', 'MONTH', 'DAY', 'DAY_OF_WEEK', 'AIRLINE', 'FLIGHT_NUMBER',\n",
      "       'TAIL_NUMBER', 'ORIGIN_AIRPORT', 'DESTINATION_AIRPORT',\n",
      "       'SCHEDULED_DEPARTURE', 'DEPARTURE_TIME', 'DEPARTURE_DELAY', 'TAXI_OUT',\n",
      "       'WHEELS_OFF', 'SCHEDULED_TIME', 'ELAPSED_TIME', 'AIR_TIME', 'DISTANCE',\n",
      "       'WHEELS_ON', 'TAXI_IN', 'SCHEDULED_ARRIVAL', 'ARRIVAL_TIME',\n",
      "       'ARRIVAL_DELAY', 'DIVERTED', 'CANCELLED', 'CANCELLATION_REASON',\n",
      "       'AIR_SYSTEM_DELAY', 'SECURITY_DELAY', 'AIRLINE_DELAY',\n",
      "       'LATE_AIRCRAFT_DELAY', 'WEATHER_DELAY'],\n",
      "      dtype='object')\n",
      "The shape of the flights.csv file is (5819079, 31)\n"
     ]
    }
   ],
   "source": [
    "flights = pd.read_csv(\"flights.csv\", low_memory = False)\n",
    "print(f\"The columns of the flights.csv file is {flights.columns}\")\n",
    "print(f\"The shape of the flights.csv file is {flights.shape}\")"
   ]
  },
  {
   "cell_type": "markdown",
   "id": "a924b7cb",
   "metadata": {},
   "source": [
    "# 2. Remove Cancelled + Diverted Flights\n",
    "Remove all cancelled and diverted flights (5 points)."
   ]
  },
  {
   "cell_type": "code",
   "execution_count": 66,
   "id": "208642af",
   "metadata": {},
   "outputs": [
    {
     "name": "stdout",
     "output_type": "stream",
     "text": [
      "The shape of the successful_flights.csv data frame is (5714008, 31)\n"
     ]
    }
   ],
   "source": [
    "successful_flights = flights[(flights['DIVERTED'] == 0) & (flights['CANCELLED'] == 0)]\n",
    "print(f\"The shape of the successful_flights.csv data frame is {successful_flights.shape}\")"
   ]
  },
  {
   "cell_type": "markdown",
   "id": "a379f36c",
   "metadata": {},
   "source": [
    "# 3. Replace Missing Delay Values\n",
    "Replace missing values in all delay reason columns ('AIR_SYSTEM_DELAY', 'SECURITY_DELAY', 'AIRLINE_DELAY', 'LATE_AIRCRAFT_DELAY', 'WEATHER_DELAY') with 0. Show the number of missing values for each of the columns before replacement, and confirm that missing values have been replaced (5 points)."
   ]
  },
  {
   "cell_type": "code",
   "execution_count": 67,
   "id": "b88e3844",
   "metadata": {},
   "outputs": [
    {
     "name": "stdout",
     "output_type": "stream",
     "text": [
      "Missing value count for delay reason:\n",
      "    AIR_SYSTEM_DELAY: 4755640\n",
      "    SECURITY_DELAY: 4755640\n",
      "    AIRLINE_DELAY: 4755640\n",
      "    LATE_AIRCRAFT_DELAY: 4755640\n",
      "    WEATHER_DELAY: 4755640\n"
     ]
    }
   ],
   "source": [
    "print(f\"\"\"Missing value count for delay reason:\n",
    "    AIR_SYSTEM_DELAY: {flights['AIR_SYSTEM_DELAY'].isnull().sum()}\n",
    "    SECURITY_DELAY: {flights['SECURITY_DELAY'].isnull().sum()}\n",
    "    AIRLINE_DELAY: {flights['AIRLINE_DELAY'].isnull().sum()}\n",
    "    LATE_AIRCRAFT_DELAY: {flights['LATE_AIRCRAFT_DELAY'].isnull().sum()}\n",
    "    WEATHER_DELAY: {flights['WEATHER_DELAY'].isnull().sum()}\"\"\")"
   ]
  },
  {
   "cell_type": "code",
   "execution_count": 68,
   "id": "179ab80b",
   "metadata": {},
   "outputs": [],
   "source": [
    "cleaned_delays_flights = copy.deepcopy(flights)\n",
    "cleaned_delays_flights['AIR_SYSTEM_DELAY'] = cleaned_delays_flights['AIR_SYSTEM_DELAY'].fillna(0)\n",
    "cleaned_delays_flights['SECURITY_DELAY'] = cleaned_delays_flights['SECURITY_DELAY'].fillna(0)\n",
    "cleaned_delays_flights['AIRLINE_DELAY'] = cleaned_delays_flights['AIRLINE_DELAY'].fillna(0)\n",
    "cleaned_delays_flights['LATE_AIRCRAFT_DELAY'] = cleaned_delays_flights['LATE_AIRCRAFT_DELAY'].fillna(0)\n",
    "cleaned_delays_flights['WEATHER_DELAY'] = cleaned_delays_flights['WEATHER_DELAY'].fillna(0)"
   ]
  },
  {
   "cell_type": "code",
   "execution_count": 69,
   "id": "42347baa",
   "metadata": {},
   "outputs": [
    {
     "name": "stdout",
     "output_type": "stream",
     "text": [
      "Missing value count for delay reason:\n",
      "    AIR_SYSTEM_DELAY: 0\n",
      "    SECURITY_DELAY: 0\n",
      "    AIRLINE_DELAY: 0\n",
      "    LATE_AIRCRAFT_DELAY: 0\n",
      "    WEATHER_DELAY: 0\n"
     ]
    }
   ],
   "source": [
    "print(f\"\"\"Missing value count for delay reason:\n",
    "    AIR_SYSTEM_DELAY: {cleaned_delays_flights['AIR_SYSTEM_DELAY'].isnull().sum()}\n",
    "    SECURITY_DELAY: {cleaned_delays_flights['SECURITY_DELAY'].isnull().sum()}\n",
    "    AIRLINE_DELAY: {cleaned_delays_flights['AIRLINE_DELAY'].isnull().sum()}\n",
    "    LATE_AIRCRAFT_DELAY: {cleaned_delays_flights['LATE_AIRCRAFT_DELAY'].isnull().sum()}\n",
    "    WEATHER_DELAY: {cleaned_delays_flights['WEATHER_DELAY'].isnull().sum()}\"\"\")"
   ]
  },
  {
   "cell_type": "markdown",
   "id": "595d9c9d",
   "metadata": {},
   "source": [
    "# 4. Drop Rows With Missing Values\n",
    "Drop rows with missing values in 'ARRIVAL_TIME', 'DEPARTURE_TIME', or 'AIR_TIME'. Show the number of flights before and after dropping the missing values (5 points)."
   ]
  },
  {
   "cell_type": "code",
   "execution_count": 70,
   "id": "ed8d6564",
   "metadata": {},
   "outputs": [
    {
     "name": "stdout",
     "output_type": "stream",
     "text": [
      "The number of flights in the flights dataframe is 5,819,079\n",
      "The number of flights in the flights dataframe after dropping missing values in arrival time, departure time, and air time is 5,714,008\n"
     ]
    }
   ],
   "source": [
    "print(f\"The number of flights in the flights dataframe is {len(flights):,}\")\n",
    "\n",
    "flights_clean = flights.dropna(subset=['ARRIVAL_TIME', 'DEPARTURE_TIME', 'AIR_TIME']).copy()\n",
    "\n",
    "print(f\"The number of flights in the flights dataframe after dropping missing values in arrival time, departure time, and air time is {len(flights_clean):,}\")"
   ]
  },
  {
   "cell_type": "markdown",
   "id": "ee33f113",
   "metadata": {},
   "source": [
    "# 5. Create a Summation Column\n",
    "Create a column 'TOTAL_DELAY' by summing all five delay reason columns for each flight (5 points)."
   ]
  },
  {
   "cell_type": "code",
   "execution_count": 71,
   "id": "1b86000d",
   "metadata": {},
   "outputs": [],
   "source": [
    "flights_clean['TOTAL_DELAY'] = flights_clean[['AIR_SYSTEM_DELAY', 'SECURITY_DELAY', 'AIRLINE_DELAY', 'LATE_AIRCRAFT_DELAY', 'WEATHER_DELAY']].sum(axis=1)"
   ]
  },
  {
   "cell_type": "markdown",
   "id": "f14ff4c2",
   "metadata": {},
   "source": [
    "# 6. Create String Slice Column\n",
    "Create a new column 'SCHEDULED_HOUR' from 'SCHEDULED_DEPARTURE' (e.g., 1330 → 13) (5 points)."
   ]
  },
  {
   "cell_type": "code",
   "execution_count": 72,
   "id": "546bf331",
   "metadata": {},
   "outputs": [
    {
     "data": {
      "text/html": [
       "<div>\n",
       "<style scoped>\n",
       "    .dataframe tbody tr th:only-of-type {\n",
       "        vertical-align: middle;\n",
       "    }\n",
       "\n",
       "    .dataframe tbody tr th {\n",
       "        vertical-align: top;\n",
       "    }\n",
       "\n",
       "    .dataframe thead th {\n",
       "        text-align: right;\n",
       "    }\n",
       "</style>\n",
       "<table border=\"1\" class=\"dataframe\">\n",
       "  <thead>\n",
       "    <tr style=\"text-align: right;\">\n",
       "      <th></th>\n",
       "      <th>YEAR</th>\n",
       "      <th>MONTH</th>\n",
       "      <th>DAY</th>\n",
       "      <th>DAY_OF_WEEK</th>\n",
       "      <th>AIRLINE</th>\n",
       "      <th>FLIGHT_NUMBER</th>\n",
       "      <th>TAIL_NUMBER</th>\n",
       "      <th>ORIGIN_AIRPORT</th>\n",
       "      <th>DESTINATION_AIRPORT</th>\n",
       "      <th>SCHEDULED_DEPARTURE</th>\n",
       "      <th>...</th>\n",
       "      <th>ARRIVAL_DELAY</th>\n",
       "      <th>DIVERTED</th>\n",
       "      <th>CANCELLED</th>\n",
       "      <th>CANCELLATION_REASON</th>\n",
       "      <th>AIR_SYSTEM_DELAY</th>\n",
       "      <th>SECURITY_DELAY</th>\n",
       "      <th>AIRLINE_DELAY</th>\n",
       "      <th>LATE_AIRCRAFT_DELAY</th>\n",
       "      <th>WEATHER_DELAY</th>\n",
       "      <th>SCHEDULED_HOUR</th>\n",
       "    </tr>\n",
       "  </thead>\n",
       "  <tbody>\n",
       "    <tr>\n",
       "      <th>0</th>\n",
       "      <td>2015</td>\n",
       "      <td>1</td>\n",
       "      <td>1</td>\n",
       "      <td>4</td>\n",
       "      <td>AS</td>\n",
       "      <td>98</td>\n",
       "      <td>N407AS</td>\n",
       "      <td>ANC</td>\n",
       "      <td>SEA</td>\n",
       "      <td>5</td>\n",
       "      <td>...</td>\n",
       "      <td>-22.0</td>\n",
       "      <td>0</td>\n",
       "      <td>0</td>\n",
       "      <td>NaN</td>\n",
       "      <td>NaN</td>\n",
       "      <td>NaN</td>\n",
       "      <td>NaN</td>\n",
       "      <td>NaN</td>\n",
       "      <td>NaN</td>\n",
       "      <td>00</td>\n",
       "    </tr>\n",
       "    <tr>\n",
       "      <th>1</th>\n",
       "      <td>2015</td>\n",
       "      <td>1</td>\n",
       "      <td>1</td>\n",
       "      <td>4</td>\n",
       "      <td>AA</td>\n",
       "      <td>2336</td>\n",
       "      <td>N3KUAA</td>\n",
       "      <td>LAX</td>\n",
       "      <td>PBI</td>\n",
       "      <td>10</td>\n",
       "      <td>...</td>\n",
       "      <td>-9.0</td>\n",
       "      <td>0</td>\n",
       "      <td>0</td>\n",
       "      <td>NaN</td>\n",
       "      <td>NaN</td>\n",
       "      <td>NaN</td>\n",
       "      <td>NaN</td>\n",
       "      <td>NaN</td>\n",
       "      <td>NaN</td>\n",
       "      <td>00</td>\n",
       "    </tr>\n",
       "    <tr>\n",
       "      <th>2</th>\n",
       "      <td>2015</td>\n",
       "      <td>1</td>\n",
       "      <td>1</td>\n",
       "      <td>4</td>\n",
       "      <td>US</td>\n",
       "      <td>840</td>\n",
       "      <td>N171US</td>\n",
       "      <td>SFO</td>\n",
       "      <td>CLT</td>\n",
       "      <td>20</td>\n",
       "      <td>...</td>\n",
       "      <td>5.0</td>\n",
       "      <td>0</td>\n",
       "      <td>0</td>\n",
       "      <td>NaN</td>\n",
       "      <td>NaN</td>\n",
       "      <td>NaN</td>\n",
       "      <td>NaN</td>\n",
       "      <td>NaN</td>\n",
       "      <td>NaN</td>\n",
       "      <td>00</td>\n",
       "    </tr>\n",
       "    <tr>\n",
       "      <th>3</th>\n",
       "      <td>2015</td>\n",
       "      <td>1</td>\n",
       "      <td>1</td>\n",
       "      <td>4</td>\n",
       "      <td>AA</td>\n",
       "      <td>258</td>\n",
       "      <td>N3HYAA</td>\n",
       "      <td>LAX</td>\n",
       "      <td>MIA</td>\n",
       "      <td>20</td>\n",
       "      <td>...</td>\n",
       "      <td>-9.0</td>\n",
       "      <td>0</td>\n",
       "      <td>0</td>\n",
       "      <td>NaN</td>\n",
       "      <td>NaN</td>\n",
       "      <td>NaN</td>\n",
       "      <td>NaN</td>\n",
       "      <td>NaN</td>\n",
       "      <td>NaN</td>\n",
       "      <td>00</td>\n",
       "    </tr>\n",
       "    <tr>\n",
       "      <th>4</th>\n",
       "      <td>2015</td>\n",
       "      <td>1</td>\n",
       "      <td>1</td>\n",
       "      <td>4</td>\n",
       "      <td>AS</td>\n",
       "      <td>135</td>\n",
       "      <td>N527AS</td>\n",
       "      <td>SEA</td>\n",
       "      <td>ANC</td>\n",
       "      <td>25</td>\n",
       "      <td>...</td>\n",
       "      <td>-21.0</td>\n",
       "      <td>0</td>\n",
       "      <td>0</td>\n",
       "      <td>NaN</td>\n",
       "      <td>NaN</td>\n",
       "      <td>NaN</td>\n",
       "      <td>NaN</td>\n",
       "      <td>NaN</td>\n",
       "      <td>NaN</td>\n",
       "      <td>00</td>\n",
       "    </tr>\n",
       "  </tbody>\n",
       "</table>\n",
       "<p>5 rows × 32 columns</p>\n",
       "</div>"
      ],
      "text/plain": [
       "   YEAR  MONTH  DAY  DAY_OF_WEEK AIRLINE  FLIGHT_NUMBER TAIL_NUMBER  \\\n",
       "0  2015      1    1            4      AS             98      N407AS   \n",
       "1  2015      1    1            4      AA           2336      N3KUAA   \n",
       "2  2015      1    1            4      US            840      N171US   \n",
       "3  2015      1    1            4      AA            258      N3HYAA   \n",
       "4  2015      1    1            4      AS            135      N527AS   \n",
       "\n",
       "  ORIGIN_AIRPORT DESTINATION_AIRPORT  SCHEDULED_DEPARTURE  ...  ARRIVAL_DELAY  \\\n",
       "0            ANC                 SEA                    5  ...          -22.0   \n",
       "1            LAX                 PBI                   10  ...           -9.0   \n",
       "2            SFO                 CLT                   20  ...            5.0   \n",
       "3            LAX                 MIA                   20  ...           -9.0   \n",
       "4            SEA                 ANC                   25  ...          -21.0   \n",
       "\n",
       "   DIVERTED  CANCELLED  CANCELLATION_REASON  AIR_SYSTEM_DELAY  SECURITY_DELAY  \\\n",
       "0         0          0                  NaN               NaN             NaN   \n",
       "1         0          0                  NaN               NaN             NaN   \n",
       "2         0          0                  NaN               NaN             NaN   \n",
       "3         0          0                  NaN               NaN             NaN   \n",
       "4         0          0                  NaN               NaN             NaN   \n",
       "\n",
       "   AIRLINE_DELAY  LATE_AIRCRAFT_DELAY  WEATHER_DELAY  SCHEDULED_HOUR  \n",
       "0            NaN                  NaN            NaN              00  \n",
       "1            NaN                  NaN            NaN              00  \n",
       "2            NaN                  NaN            NaN              00  \n",
       "3            NaN                  NaN            NaN              00  \n",
       "4            NaN                  NaN            NaN              00  \n",
       "\n",
       "[5 rows x 32 columns]"
      ]
     },
     "execution_count": 72,
     "metadata": {},
     "output_type": "execute_result"
    }
   ],
   "source": [
    "flights['SCHEDULED_HOUR'] = flights['SCHEDULED_DEPARTURE'].astype(str).str.zfill(4).str.slice(0,2)\n",
    "        \n",
    "#pd.set_option('display.max_columns', None)\n",
    "\n",
    "flights.head()"
   ]
  },
  {
   "cell_type": "markdown",
   "id": "3d262dd3",
   "metadata": {},
   "source": [
    "# 7. Unique Airlines\n",
    "In the flights dataset, how many unique airlines are there? List their airline code and airline names (7.5 points)."
   ]
  },
  {
   "cell_type": "code",
   "execution_count": 73,
   "id": "4eee9d5e",
   "metadata": {},
   "outputs": [
    {
     "name": "stdout",
     "output_type": "stream",
     "text": [
      "14\n"
     ]
    }
   ],
   "source": [
    "print(flights['AIRLINE'].nunique())"
   ]
  },
  {
   "cell_type": "code",
   "execution_count": 74,
   "id": "f0b4a094",
   "metadata": {},
   "outputs": [
    {
     "data": {
      "text/plain": [
       "IATA_CODE  AIRLINE                     \n",
       "AA         American Airlines Inc.          1\n",
       "AS         Alaska Airlines Inc.            1\n",
       "B6         JetBlue Airways                 1\n",
       "DL         Delta Air Lines Inc.            1\n",
       "EV         Atlantic Southeast Airlines     1\n",
       "F9         Frontier Airlines Inc.          1\n",
       "HA         Hawaiian Airlines Inc.          1\n",
       "MQ         American Eagle Airlines Inc.    1\n",
       "NK         Spirit Air Lines                1\n",
       "OO         Skywest Airlines Inc.           1\n",
       "UA         United Air Lines Inc.           1\n",
       "US         US Airways Inc.                 1\n",
       "VX         Virgin America                  1\n",
       "WN         Southwest Airlines Co.          1\n",
       "Name: count, dtype: int64"
      ]
     },
     "execution_count": 74,
     "metadata": {},
     "output_type": "execute_result"
    }
   ],
   "source": [
    "airlines.value_counts()"
   ]
  },
  {
   "cell_type": "markdown",
   "id": "f94c5767",
   "metadata": {},
   "source": [
    "# 8. Top Destinations\n",
    "What are the top 5 most common destination airports by number of flights? List the IATA_CODE, Airport Name, and flight count (7.5 points)."
   ]
  },
  {
   "cell_type": "code",
   "execution_count": 75,
   "id": "72d597f9",
   "metadata": {},
   "outputs": [
    {
     "data": {
      "text/html": [
       "<div>\n",
       "<style scoped>\n",
       "    .dataframe tbody tr th:only-of-type {\n",
       "        vertical-align: middle;\n",
       "    }\n",
       "\n",
       "    .dataframe tbody tr th {\n",
       "        vertical-align: top;\n",
       "    }\n",
       "\n",
       "    .dataframe thead th {\n",
       "        text-align: right;\n",
       "    }\n",
       "</style>\n",
       "<table border=\"1\" class=\"dataframe\">\n",
       "  <thead>\n",
       "    <tr style=\"text-align: right;\">\n",
       "      <th></th>\n",
       "      <th>AIRPORT</th>\n",
       "      <th>IATA_CODE</th>\n",
       "      <th>count</th>\n",
       "    </tr>\n",
       "  </thead>\n",
       "  <tbody>\n",
       "    <tr>\n",
       "      <th>0</th>\n",
       "      <td>Hartsfield-Jackson Atlanta International Airport</td>\n",
       "      <td>ATL</td>\n",
       "      <td>343076</td>\n",
       "    </tr>\n",
       "    <tr>\n",
       "      <th>1</th>\n",
       "      <td>Chicago O'Hare International Airport</td>\n",
       "      <td>ORD</td>\n",
       "      <td>275864</td>\n",
       "    </tr>\n",
       "    <tr>\n",
       "      <th>2</th>\n",
       "      <td>Dallas/Fort Worth International Airport</td>\n",
       "      <td>DFW</td>\n",
       "      <td>231764</td>\n",
       "    </tr>\n",
       "    <tr>\n",
       "      <th>3</th>\n",
       "      <td>Denver International Airport</td>\n",
       "      <td>DEN</td>\n",
       "      <td>193033</td>\n",
       "    </tr>\n",
       "    <tr>\n",
       "      <th>4</th>\n",
       "      <td>Los Angeles International Airport</td>\n",
       "      <td>LAX</td>\n",
       "      <td>192136</td>\n",
       "    </tr>\n",
       "  </tbody>\n",
       "</table>\n",
       "</div>"
      ],
      "text/plain": [
       "                                            AIRPORT IATA_CODE   count\n",
       "0  Hartsfield-Jackson Atlanta International Airport       ATL  343076\n",
       "1              Chicago O'Hare International Airport       ORD  275864\n",
       "2           Dallas/Fort Worth International Airport       DFW  231764\n",
       "3                      Denver International Airport       DEN  193033\n",
       "4                 Los Angeles International Airport       LAX  192136"
      ]
     },
     "execution_count": 75,
     "metadata": {},
     "output_type": "execute_result"
    }
   ],
   "source": [
    "flight_counts_s = flights_clean['DESTINATION_AIRPORT'].value_counts()\n",
    "flight_counts = flight_counts_s.reset_index().head(5)\n",
    "\n",
    "airport_merge = airports[['IATA_CODE', 'AIRPORT']]\n",
    "\n",
    "flight_counts_full = flight_counts.merge(airport_merge, left_on='DESTINATION_AIRPORT', right_on='IATA_CODE')\n",
    "top_destinations = flight_counts_full[['AIRPORT', 'IATA_CODE', 'count']]\n",
    "top_destinations\n"
   ]
  },
  {
   "cell_type": "markdown",
   "id": "07159bd4",
   "metadata": {},
   "source": [
    "# 9. Highest Average Delay\n",
    "Which destination city has the highest average total delay? (7.5 points)."
   ]
  },
  {
   "cell_type": "code",
   "execution_count": 76,
   "id": "5a4333f4",
   "metadata": {},
   "outputs": [
    {
     "data": {
      "text/plain": [
       "DESTINATION_AIRPORT\n",
       "13964    29.500000\n",
       "ILG      24.663158\n",
       "STC      24.337662\n",
       "MQT      22.081081\n",
       "TTN      21.832307\n",
       "           ...    \n",
       "13127     0.283019\n",
       "10666     0.000000\n",
       "12016     0.000000\n",
       "11503     0.000000\n",
       "13541     0.000000\n",
       "Name: TOTAL_DELAY, Length: 629, dtype: float64"
      ]
     },
     "execution_count": 76,
     "metadata": {},
     "output_type": "execute_result"
    }
   ],
   "source": [
    "avg_delay_by_city = flights_clean.groupby('DESTINATION_AIRPORT')['TOTAL_DELAY'].mean().sort_values(ascending=False)\n",
    "avg_delay_by_city\n"
   ]
  },
  {
   "cell_type": "markdown",
   "id": "bd2038f6",
   "metadata": {},
   "source": [
    "# 10. Average Arrival Delay\n",
    "What is the average arrival delay for each airline? (7.5 points)."
   ]
  },
  {
   "cell_type": "code",
   "execution_count": 77,
   "id": "8a5cd0a1",
   "metadata": {},
   "outputs": [
    {
     "data": {
      "text/plain": [
       "AIRLINE\n",
       "NK    14.471800\n",
       "F9    12.504706\n",
       "B6     6.677861\n",
       "EV     6.585379\n",
       "MQ     6.457873\n",
       "OO     5.845652\n",
       "UA     5.431594\n",
       "VX     4.737706\n",
       "WN     4.374964\n",
       "US     3.706209\n",
       "AA     3.451372\n",
       "HA     2.023093\n",
       "DL     0.186754\n",
       "AS    -0.976563\n",
       "Name: ARRIVAL_DELAY, dtype: float64"
      ]
     },
     "execution_count": 77,
     "metadata": {},
     "output_type": "execute_result"
    }
   ],
   "source": [
    "avg_arr_delay_by_airline = flights_clean.groupby('AIRLINE')['ARRIVAL_DELAY'].mean().sort_values(ascending=False)\n",
    "avg_arr_delay_by_airline"
   ]
  },
  {
   "cell_type": "markdown",
   "id": "fb47a522",
   "metadata": {},
   "source": [
    "# 11. Cancellations Per Airline\n",
    "How many flights were cancelled per airline? (7.5 points)."
   ]
  },
  {
   "cell_type": "code",
   "execution_count": 78,
   "id": "bec5eeae",
   "metadata": {},
   "outputs": [
    {
     "data": {
      "text/plain": [
       "AIRLINE\n",
       "WN    16043\n",
       "EV    15231\n",
       "MQ    15025\n",
       "AA    10919\n",
       "OO     9960\n",
       "UA     6573\n",
       "B6     4276\n",
       "US     4067\n",
       "DL     3824\n",
       "NK     2004\n",
       "AS      669\n",
       "F9      588\n",
       "VX      534\n",
       "HA      171\n",
       "Name: CANCELLED, dtype: int64"
      ]
     },
     "execution_count": 78,
     "metadata": {},
     "output_type": "execute_result"
    }
   ],
   "source": [
    "cancellations_by_airline = flights.groupby('AIRLINE')['CANCELLED'].sum().sort_values(ascending=False)\n",
    "cancellations_by_airline"
   ]
  },
  {
   "cell_type": "markdown",
   "id": "0a05aeb0",
   "metadata": {},
   "source": [
    "# 12 Departures by Hour\n",
    "Which hour of the day had the most scheduled departures? (7.5 points)."
   ]
  },
  {
   "cell_type": "code",
   "execution_count": 79,
   "id": "ff177052",
   "metadata": {},
   "outputs": [
    {
     "data": {
      "text/plain": [
       "SCHEDULED_HOUR\n",
       "06    406940\n",
       "07    393947\n",
       "17    390362\n",
       "08    381014\n",
       "10    371644\n",
       "15    367760\n",
       "13    363509\n",
       "11    358084\n",
       "12    355611\n",
       "09    351403\n",
       "18    334380\n",
       "16    334153\n",
       "19    331338\n",
       "14    329715\n",
       "20    259432\n",
       "21    187467\n",
       "05    118051\n",
       "22    117551\n",
       "23     44172\n",
       "00     14664\n",
       "01      5159\n",
       "02      1414\n",
       "03       778\n",
       "04       531\n",
       "Name: count, dtype: int64"
      ]
     },
     "execution_count": 79,
     "metadata": {},
     "output_type": "execute_result"
    }
   ],
   "source": [
    "departures_by_hour = flights['SCHEDULED_HOUR'].value_counts()\n",
    "departures_by_hour"
   ]
  },
  {
   "cell_type": "markdown",
   "id": "250107db",
   "metadata": {},
   "source": [
    "# 13 Arrivals By City\n",
    "Which city had the most flights arriving overall? (5 points)."
   ]
  },
  {
   "cell_type": "code",
   "execution_count": 80,
   "id": "d6d3fef5",
   "metadata": {},
   "outputs": [
    {
     "data": {
      "text/plain": [
       "CITY\n",
       "Chicago              354342\n",
       "Atlanta              343076\n",
       "Dallas-Fort Worth    231764\n",
       "Houston              194601\n",
       "Denver               193033\n",
       "                      ...  \n",
       "St Cloud                 77\n",
       "Dillingham               77\n",
       "Gustavus                 74\n",
       "King Salmon              63\n",
       "Ithaca                   31\n",
       "Name: count, Length: 308, dtype: int64"
      ]
     },
     "execution_count": 80,
     "metadata": {},
     "output_type": "execute_result"
    }
   ],
   "source": [
    "flights_clean_with_dest_city = pd.merge(flights_clean, airports, left_on = 'DESTINATION_AIRPORT', right_on = 'IATA_CODE')\n",
    "\n",
    "arrivals_by_city = flights_clean_with_dest_city['CITY'].value_counts()\n",
    "arrivals_by_city"
   ]
  },
  {
   "cell_type": "markdown",
   "id": "9dde2a12",
   "metadata": {},
   "source": [
    "# 14 Percent Arrivals Delayed\n",
    "What percentage of flights were delayed ('ARRIVAL_DELAY' > 15)? (5 points)"
   ]
  },
  {
   "cell_type": "code",
   "execution_count": 81,
   "id": "ac405669",
   "metadata": {},
   "outputs": [
    {
     "data": {
      "text/plain": [
       "0.1791208552735663"
      ]
     },
     "execution_count": 81,
     "metadata": {},
     "output_type": "execute_result"
    }
   ],
   "source": [
    "pct_delayed = len(flights_clean[flights_clean['ARRIVAL_DELAY']>15])/len(flights_clean)\n",
    "pct_delayed"
   ]
  },
  {
   "cell_type": "markdown",
   "id": "3a9b1155",
   "metadata": {},
   "source": [
    "# 15 Histogram of Flight Distance\n",
    "Create a histogram of flight distances (10 points)."
   ]
  },
  {
   "cell_type": "code",
   "execution_count": 82,
   "id": "c05e8b9e",
   "metadata": {},
   "outputs": [
    {
     "data": {
      "image/png": "[encoded data removed]"
     },
     "metadata": {
      "image/png": {
       "height": 480,
       "width": 640
      }
     },
     "output_type": "display_data"
    }
   ],
   "source": [
    "plot = (\n",
    "    p9.ggplot(flights_clean, p9.aes(x = 'DISTANCE')) +\n",
    "    p9.geom_histogram(fill='blue', bins = 50)\n",
    ")\n",
    "plot.show()"
   ]
  },
  {
   "cell_type": "markdown",
   "id": "266ea5be",
   "metadata": {},
   "source": [
    "# 16 Bar Chart\n",
    "Create a bar chart showing the top 5 airlines with the highest average arrival delay (10 points)"
   ]
  },
  {
   "cell_type": "code",
   "execution_count": 84,
   "id": "65a7c90e",
   "metadata": {},
   "outputs": [
    {
     "data": {
      "image/png": "[encoded data removed]"
     },
     "metadata": {
      "image/png": {
       "height": 480,
       "width": 640
      }
     },
     "output_type": "display_data"
    }
   ],
   "source": [
    "delayed_airlines = avg_arr_delay_by_airline.reset_index()[0:5]\n",
    "\n",
    "bar_chart = (\n",
    "    p9.ggplot(delayed_airlines, p9.aes(x = 'AIRLINE', y = 'ARRIVAL_DELAY')) +\n",
    "    p9.geom_bar(stat='identity', fill = 'blue')\n",
    ")\n",
    "bar_chart.show()"
   ]
  }
 ],
 "metadata": {
  "kernelspec": {
   "display_name": "Python 3",
   "language": "python",
   "name": "python3"
  },
  "language_info": {
   "codemirror_mode": {
    "name": "ipython",
    "version": 3
   },
   "file_extension": ".py",
   "mimetype": "text/x-python",
   "name": "python",
   "nbconvert_exporter": "python",
   "pygments_lexer": "ipython3",
   "version": "3.13.3"
  }
 },
 "nbformat": 4,
 "nbformat_minor": 5
}
